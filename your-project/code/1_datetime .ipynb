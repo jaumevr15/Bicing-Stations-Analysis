{
 "cells": [
  {
   "cell_type": "markdown",
   "metadata": {},
   "source": [
    "# 1. Datetime cleaning\n",
    "### This notebook is intended to organize the data based on time to be able to run the analysis."
   ]
  },
  {
   "cell_type": "code",
   "execution_count": 17,
   "metadata": {},
   "outputs": [],
   "source": [
    "# Importing the required \n",
    "import pandas as pd\n",
    "from datetime import datetime  \n",
    "from datetime import timedelta \n",
    "from datetime import date"
   ]
  },
  {
   "cell_type": "code",
   "execution_count": 4,
   "metadata": {},
   "outputs": [],
   "source": [
    "# Importing the cleaned dataset\n",
    "octubre = pd.read_csv(\"..\\\\Dataset\\\\October_cleaned.csv\",encoding=\"utf_8\")"
   ]
  },
  {
   "cell_type": "markdown",
   "metadata": {},
   "source": [
    "### The objective of this notebook is to separate the data of each station between the hours of the day, on weekdays, to understand how do they behave depending on the moment of the day.\n",
    "The first step, is to identify, which days of October where weekdays and which ones where weekends."
   ]
  },
  {
   "cell_type": "code",
   "execution_count": 8,
   "metadata": {},
   "outputs": [
    {
     "data": {
      "text/plain": [
       "1"
      ]
     },
     "execution_count": 8,
     "metadata": {},
     "output_type": "execute_result"
    }
   ],
   "source": [
    "# datetime allows us to check which day of the week was a particular date.\n",
    "day1 = date(2019, 10, 1)\n",
    "day1.weekday()"
   ]
  },
  {
   "cell_type": "code",
   "execution_count": null,
   "metadata": {},
   "outputs": [],
   "source": [
    "#The output of weekday() is a number between 0 and 6, being 0 Monday, 1 Tuesday... and 6 Sunday"
   ]
  },
  {
   "cell_type": "code",
   "execution_count": 35,
   "metadata": {},
   "outputs": [
    {
     "data": {
      "text/plain": [
       "int"
      ]
     },
     "execution_count": 35,
     "metadata": {},
     "output_type": "execute_result"
    }
   ],
   "source": [
    "# We will identify the weekdays of October\n",
    "day31 = date(2019,10, 31)\n",
    "day31.weekday()"
   ]
  },
  {
   "cell_type": "code",
   "execution_count": 18,
   "metadata": {},
   "outputs": [],
   "source": [
    "day2 = day1 + timedelta(days=1)"
   ]
  },
  {
   "cell_type": "code",
   "execution_count": 19,
   "metadata": {},
   "outputs": [
    {
     "data": {
      "text/plain": [
       "datetime.date(2019, 10, 2)"
      ]
     },
     "execution_count": 19,
     "metadata": {},
     "output_type": "execute_result"
    }
   ],
   "source": [
    "day2"
   ]
  },
  {
   "cell_type": "code",
   "execution_count": 27,
   "metadata": {},
   "outputs": [
    {
     "data": {
      "text/plain": [
       "30"
      ]
     },
     "execution_count": 27,
     "metadata": {},
     "output_type": "execute_result"
    }
   ],
   "source": [
    "abs((day31 - day1).days)"
   ]
  },
  {
   "cell_type": "code",
   "execution_count": 53,
   "metadata": {},
   "outputs": [],
   "source": [
    "#Let's find working days\n",
    "weekdays = []\n",
    "day = day1 - timedelta(days=1)\n",
    "for d in range(abs((day31 - day1 + timedelta(days=1)).days)):\n",
    "    day = day + timedelta(days=1)\n",
    "    whichday = day.weekday()\n",
    "    if whichday in range(5):\n",
    "        weekdays.append(day)"
   ]
  },
  {
   "cell_type": "code",
   "execution_count": 54,
   "metadata": {},
   "outputs": [
    {
     "data": {
      "text/plain": [
       "[datetime.date(2019, 10, 1),\n",
       " datetime.date(2019, 10, 2),\n",
       " datetime.date(2019, 10, 3),\n",
       " datetime.date(2019, 10, 4),\n",
       " datetime.date(2019, 10, 7),\n",
       " datetime.date(2019, 10, 8),\n",
       " datetime.date(2019, 10, 9),\n",
       " datetime.date(2019, 10, 10),\n",
       " datetime.date(2019, 10, 11),\n",
       " datetime.date(2019, 10, 14),\n",
       " datetime.date(2019, 10, 15),\n",
       " datetime.date(2019, 10, 16),\n",
       " datetime.date(2019, 10, 17),\n",
       " datetime.date(2019, 10, 18),\n",
       " datetime.date(2019, 10, 21),\n",
       " datetime.date(2019, 10, 22),\n",
       " datetime.date(2019, 10, 23),\n",
       " datetime.date(2019, 10, 24),\n",
       " datetime.date(2019, 10, 25),\n",
       " datetime.date(2019, 10, 28),\n",
       " datetime.date(2019, 10, 29),\n",
       " datetime.date(2019, 10, 30),\n",
       " datetime.date(2019, 10, 31)]"
      ]
     },
     "execution_count": 54,
     "metadata": {},
     "output_type": "execute_result"
    }
   ],
   "source": [
    "weekdays"
   ]
  },
  {
   "cell_type": "code",
   "execution_count": null,
   "metadata": {},
   "outputs": [],
   "source": [
    "times = pd.DatetimeIndex(octubre.last_updated)\n",
    "grouped = octubre.groupby([times.day, times.hour]).mean()"
   ]
  }
 ],
 "metadata": {
  "kernelspec": {
   "display_name": "Python 3",
   "language": "python",
   "name": "python3"
  },
  "language_info": {
   "codemirror_mode": {
    "name": "ipython",
    "version": 3
   },
   "file_extension": ".py",
   "mimetype": "text/x-python",
   "name": "python",
   "nbconvert_exporter": "python",
   "pygments_lexer": "ipython3",
   "version": "3.7.3"
  }
 },
 "nbformat": 4,
 "nbformat_minor": 2
}
