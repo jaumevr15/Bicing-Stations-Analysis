{
 "cells": [
  {
   "cell_type": "markdown",
   "metadata": {},
   "source": [
    "# Geolocation features handling\n",
    "Once we already know how the stations behave each hour, on weekdays, we will add geolocation features to our model. Do they behave the same depending on how high in the city the stations are located? Is there any relationship between how close to the city centre they are? We will find this out in this notebook."
   ]
  },
  {
   "cell_type": "code",
   "execution_count": 127,
   "metadata": {},
   "outputs": [],
   "source": [
    "#Importing required libraries\n",
    "import pandas as pd\n",
    "import geopy.distance\n",
    "import geocoder"
   ]
  },
  {
   "cell_type": "code",
   "execution_count": 75,
   "metadata": {},
   "outputs": [],
   "source": [
    "#importing datetime_features file generated from 1_datetime\n",
    "oct_features = pd.read_csv(\"..\\\\Dataset\\\\datetime_features.csv\",encoding=\"utf_8\",index_col='station_id')\n",
    "#importing dataframe extracted from web scrapping Bicing website, thanks to Laurent Guerguy https://github.com/laurent-guerguy\n",
    "coordinates_df = pd.read_csv(\"..\\\\Dataset\\\\bicing_ws_laurent.csv\",encoding=\"utf_8\")"
   ]
  },
  {
   "cell_type": "code",
   "execution_count": 76,
   "metadata": {},
   "outputs": [],
   "source": [
    "#We only need 'station_id', latitude and longitude columns\n",
    "coordinates_df = coordinates_df[['1','4','5']]"
   ]
  },
  {
   "cell_type": "code",
   "execution_count": 77,
   "metadata": {},
   "outputs": [
    {
     "name": "stdout",
     "output_type": "stream",
     "text": [
      "The dataframe has the stations from its id number 1 to the 496\n"
     ]
    }
   ],
   "source": [
    "#We double check column '1' refers to station_id\n",
    "coordinates_df['1'].unique()\n",
    "print(f\"The dataframe has the stations from its id number {coordinates_df['1'].min()} to the {coordinates_df['1'].max()}\")"
   ]
  },
  {
   "cell_type": "code",
   "execution_count": 78,
   "metadata": {},
   "outputs": [],
   "source": [
    "coordinates_df = coordinates_df.rename(columns={\"1\":'station_id',\"4\":\"lat\",\"5\":\"long\"})"
   ]
  },
  {
   "cell_type": "code",
   "execution_count": 79,
   "metadata": {},
   "outputs": [],
   "source": [
    "coordinates_df = coordinates_df.groupby('station_id').mean()"
   ]
  },
  {
   "cell_type": "code",
   "execution_count": 114,
   "metadata": {},
   "outputs": [],
   "source": [
    "oct_features_gps = pd.merge(oct_features, coordinates_df, on=\"station_id\")"
   ]
  },
  {
   "cell_type": "code",
   "execution_count": 115,
   "metadata": {},
   "outputs": [
    {
     "data": {
      "text/plain": [
       "00:00    0\n",
       "01:00    0\n",
       "02:00    0\n",
       "03:00    0\n",
       "04:00    0\n",
       "05:00    0\n",
       "06:00    0\n",
       "07:00    0\n",
       "08:00    0\n",
       "09:00    0\n",
       "10:00    0\n",
       "11:00    0\n",
       "12:00    0\n",
       "13:00    0\n",
       "14:00    0\n",
       "15:00    0\n",
       "16:00    0\n",
       "17:00    0\n",
       "18:00    0\n",
       "19:00    0\n",
       "20:00    0\n",
       "21:00    0\n",
       "22:00    0\n",
       "23:00    0\n",
       "lat      0\n",
       "long     0\n",
       "dtype: int64"
      ]
     },
     "execution_count": 115,
     "metadata": {},
     "output_type": "execute_result"
    }
   ],
   "source": [
    "#Checking if we are missing something\n",
    "oct_features_gps.isnull().sum()"
   ]
  },
  {
   "cell_type": "markdown",
   "metadata": {},
   "source": [
    "### Calculating the distance of each station to the city centre\n",
    "We will use Plaça Catalunya, Lat: 41.3870154, Long: 2.1700471 as the centre of the city and will caluclate the distance, in kilometres, of the station to the centre."
   ]
  },
  {
   "cell_type": "code",
   "execution_count": 90,
   "metadata": {},
   "outputs": [],
   "source": [
    "PlCat = (41.3870154, 2.170047)"
   ]
  },
  {
   "cell_type": "code",
   "execution_count": 123,
   "metadata": {},
   "outputs": [
    {
     "name": "stderr",
     "output_type": "stream",
     "text": [
      "C:\\Users\\jaume\\Anaconda3\\lib\\site-packages\\ipykernel_launcher.py:5: DeprecationWarning: Vincenty is deprecated and is going to be removed in geopy 2.0. Use `geopy.distance.geodesic` (or the default `geopy.distance.distance`) instead, which is more accurate and always converges.\n",
      "  \"\"\"\n"
     ]
    }
   ],
   "source": [
    "#Iterating between stations to find the distance from Plaça Ctalunya\n",
    "stations = range(oct_features_gps.shape[0])\n",
    "distances = []\n",
    "for s in stations:\n",
    "    location = (oct_features_gps.iloc[s]['lat'],oct_features_gps.iloc[s]['long'])\n",
    "    distances.append(geopy.distance.vincenty(PlCat, location).km)"
   ]
  },
  {
   "cell_type": "code",
   "execution_count": 125,
   "metadata": {},
   "outputs": [],
   "source": [
    "#Adding distances as feature\n",
    "oct_features_gps['DisttoCentre'] = distances"
   ]
  },
  {
   "cell_type": "code",
   "execution_count": 128,
   "metadata": {},
   "outputs": [
    {
     "data": {
      "text/html": [
       "<div>\n",
       "<style scoped>\n",
       "    .dataframe tbody tr th:only-of-type {\n",
       "        vertical-align: middle;\n",
       "    }\n",
       "\n",
       "    .dataframe tbody tr th {\n",
       "        vertical-align: top;\n",
       "    }\n",
       "\n",
       "    .dataframe thead th {\n",
       "        text-align: right;\n",
       "    }\n",
       "</style>\n",
       "<table border=\"1\" class=\"dataframe\">\n",
       "  <thead>\n",
       "    <tr style=\"text-align: right;\">\n",
       "      <th></th>\n",
       "      <th>00:00</th>\n",
       "      <th>01:00</th>\n",
       "      <th>02:00</th>\n",
       "      <th>03:00</th>\n",
       "      <th>04:00</th>\n",
       "      <th>05:00</th>\n",
       "      <th>06:00</th>\n",
       "      <th>07:00</th>\n",
       "      <th>08:00</th>\n",
       "      <th>09:00</th>\n",
       "      <th>...</th>\n",
       "      <th>17:00</th>\n",
       "      <th>18:00</th>\n",
       "      <th>19:00</th>\n",
       "      <th>20:00</th>\n",
       "      <th>21:00</th>\n",
       "      <th>22:00</th>\n",
       "      <th>23:00</th>\n",
       "      <th>lat</th>\n",
       "      <th>long</th>\n",
       "      <th>DisttoCentre</th>\n",
       "    </tr>\n",
       "    <tr>\n",
       "      <th>station_id</th>\n",
       "      <th></th>\n",
       "      <th></th>\n",
       "      <th></th>\n",
       "      <th></th>\n",
       "      <th></th>\n",
       "      <th></th>\n",
       "      <th></th>\n",
       "      <th></th>\n",
       "      <th></th>\n",
       "      <th></th>\n",
       "      <th></th>\n",
       "      <th></th>\n",
       "      <th></th>\n",
       "      <th></th>\n",
       "      <th></th>\n",
       "      <th></th>\n",
       "      <th></th>\n",
       "      <th></th>\n",
       "      <th></th>\n",
       "      <th></th>\n",
       "      <th></th>\n",
       "    </tr>\n",
       "  </thead>\n",
       "  <tbody>\n",
       "    <tr>\n",
       "      <th>1</th>\n",
       "      <td>23.446767</td>\n",
       "      <td>23.829381</td>\n",
       "      <td>23.712932</td>\n",
       "      <td>23.849802</td>\n",
       "      <td>23.663094</td>\n",
       "      <td>20.892546</td>\n",
       "      <td>11.782609</td>\n",
       "      <td>4.006968</td>\n",
       "      <td>5.026528</td>\n",
       "      <td>6.000405</td>\n",
       "      <td>...</td>\n",
       "      <td>11.195500</td>\n",
       "      <td>11.897309</td>\n",
       "      <td>12.698009</td>\n",
       "      <td>15.794010</td>\n",
       "      <td>17.607353</td>\n",
       "      <td>20.164640</td>\n",
       "      <td>21.964028</td>\n",
       "      <td>41.397952</td>\n",
       "      <td>2.180042</td>\n",
       "      <td>1.474485</td>\n",
       "    </tr>\n",
       "    <tr>\n",
       "      <th>2</th>\n",
       "      <td>13.521435</td>\n",
       "      <td>14.101449</td>\n",
       "      <td>13.796012</td>\n",
       "      <td>13.482543</td>\n",
       "      <td>13.398019</td>\n",
       "      <td>11.883222</td>\n",
       "      <td>7.344203</td>\n",
       "      <td>3.507398</td>\n",
       "      <td>3.186860</td>\n",
       "      <td>4.340073</td>\n",
       "      <td>...</td>\n",
       "      <td>8.327506</td>\n",
       "      <td>6.906202</td>\n",
       "      <td>7.275058</td>\n",
       "      <td>8.782305</td>\n",
       "      <td>10.330977</td>\n",
       "      <td>12.419454</td>\n",
       "      <td>12.664574</td>\n",
       "      <td>41.395530</td>\n",
       "      <td>2.177060</td>\n",
       "      <td>1.112775</td>\n",
       "    </tr>\n",
       "    <tr>\n",
       "      <th>3</th>\n",
       "      <td>16.589744</td>\n",
       "      <td>16.688380</td>\n",
       "      <td>16.762821</td>\n",
       "      <td>16.660864</td>\n",
       "      <td>16.361255</td>\n",
       "      <td>16.761908</td>\n",
       "      <td>14.389657</td>\n",
       "      <td>7.888315</td>\n",
       "      <td>4.038994</td>\n",
       "      <td>3.496351</td>\n",
       "      <td>...</td>\n",
       "      <td>18.652326</td>\n",
       "      <td>19.573857</td>\n",
       "      <td>18.422139</td>\n",
       "      <td>16.544694</td>\n",
       "      <td>16.124531</td>\n",
       "      <td>16.378281</td>\n",
       "      <td>17.249603</td>\n",
       "      <td>41.394055</td>\n",
       "      <td>2.181299</td>\n",
       "      <td>1.223473</td>\n",
       "    </tr>\n",
       "    <tr>\n",
       "      <th>4</th>\n",
       "      <td>9.777668</td>\n",
       "      <td>9.742754</td>\n",
       "      <td>9.940635</td>\n",
       "      <td>10.385933</td>\n",
       "      <td>11.532634</td>\n",
       "      <td>14.071856</td>\n",
       "      <td>10.055665</td>\n",
       "      <td>4.903593</td>\n",
       "      <td>2.035700</td>\n",
       "      <td>2.817244</td>\n",
       "      <td>...</td>\n",
       "      <td>15.020523</td>\n",
       "      <td>15.481707</td>\n",
       "      <td>13.534940</td>\n",
       "      <td>11.529492</td>\n",
       "      <td>9.663069</td>\n",
       "      <td>9.610951</td>\n",
       "      <td>10.528793</td>\n",
       "      <td>41.393480</td>\n",
       "      <td>2.181555</td>\n",
       "      <td>1.200780</td>\n",
       "    </tr>\n",
       "    <tr>\n",
       "      <th>5</th>\n",
       "      <td>24.423558</td>\n",
       "      <td>24.391304</td>\n",
       "      <td>24.243590</td>\n",
       "      <td>23.869565</td>\n",
       "      <td>24.260236</td>\n",
       "      <td>23.059238</td>\n",
       "      <td>18.657115</td>\n",
       "      <td>9.327582</td>\n",
       "      <td>8.241005</td>\n",
       "      <td>10.146194</td>\n",
       "      <td>...</td>\n",
       "      <td>26.185644</td>\n",
       "      <td>30.289754</td>\n",
       "      <td>27.051282</td>\n",
       "      <td>27.036156</td>\n",
       "      <td>27.424775</td>\n",
       "      <td>26.778960</td>\n",
       "      <td>24.821970</td>\n",
       "      <td>41.391075</td>\n",
       "      <td>2.180223</td>\n",
       "      <td>0.963151</td>\n",
       "    </tr>\n",
       "  </tbody>\n",
       "</table>\n",
       "<p>5 rows × 27 columns</p>\n",
       "</div>"
      ],
      "text/plain": [
       "                00:00      01:00      02:00      03:00      04:00      05:00  \\\n",
       "station_id                                                                     \n",
       "1           23.446767  23.829381  23.712932  23.849802  23.663094  20.892546   \n",
       "2           13.521435  14.101449  13.796012  13.482543  13.398019  11.883222   \n",
       "3           16.589744  16.688380  16.762821  16.660864  16.361255  16.761908   \n",
       "4            9.777668   9.742754   9.940635  10.385933  11.532634  14.071856   \n",
       "5           24.423558  24.391304  24.243590  23.869565  24.260236  23.059238   \n",
       "\n",
       "                06:00     07:00     08:00      09:00  ...      17:00  \\\n",
       "station_id                                            ...              \n",
       "1           11.782609  4.006968  5.026528   6.000405  ...  11.195500   \n",
       "2            7.344203  3.507398  3.186860   4.340073  ...   8.327506   \n",
       "3           14.389657  7.888315  4.038994   3.496351  ...  18.652326   \n",
       "4           10.055665  4.903593  2.035700   2.817244  ...  15.020523   \n",
       "5           18.657115  9.327582  8.241005  10.146194  ...  26.185644   \n",
       "\n",
       "                18:00      19:00      20:00      21:00      22:00      23:00  \\\n",
       "station_id                                                                     \n",
       "1           11.897309  12.698009  15.794010  17.607353  20.164640  21.964028   \n",
       "2            6.906202   7.275058   8.782305  10.330977  12.419454  12.664574   \n",
       "3           19.573857  18.422139  16.544694  16.124531  16.378281  17.249603   \n",
       "4           15.481707  13.534940  11.529492   9.663069   9.610951  10.528793   \n",
       "5           30.289754  27.051282  27.036156  27.424775  26.778960  24.821970   \n",
       "\n",
       "                  lat      long  DisttoCentre  \n",
       "station_id                                     \n",
       "1           41.397952  2.180042      1.474485  \n",
       "2           41.395530  2.177060      1.112775  \n",
       "3           41.394055  2.181299      1.223473  \n",
       "4           41.393480  2.181555      1.200780  \n",
       "5           41.391075  2.180223      0.963151  \n",
       "\n",
       "[5 rows x 27 columns]"
      ]
     },
     "execution_count": 128,
     "metadata": {},
     "output_type": "execute_result"
    }
   ],
   "source": [
    "oct_features_gps.head()"
   ]
  },
  {
   "cell_type": "markdown",
   "metadata": {},
   "source": [
    "### Finding out the elevation of each station\n",
    "Geocoder allows us finding the elevation of each coordinate"
   ]
  },
  {
   "cell_type": "code",
   "execution_count": 129,
   "metadata": {},
   "outputs": [
    {
     "ename": "ValueError",
     "evalue": "Provide API Key",
     "output_type": "error",
     "traceback": [
      "\u001b[1;31m---------------------------------------------------------------------------\u001b[0m",
      "\u001b[1;31mValueError\u001b[0m                                Traceback (most recent call last)",
      "\u001b[1;32m<ipython-input-129-b89d227e2a21>\u001b[0m in \u001b[0;36m<module>\u001b[1;34m\u001b[0m\n\u001b[0;32m      1\u001b[0m \u001b[1;31m#Testing out\u001b[0m\u001b[1;33m\u001b[0m\u001b[1;33m\u001b[0m\u001b[1;33m\u001b[0m\u001b[0m\n\u001b[1;32m----> 2\u001b[1;33m \u001b[0mg\u001b[0m \u001b[1;33m=\u001b[0m \u001b[0mgeocoder\u001b[0m\u001b[1;33m.\u001b[0m\u001b[0melevation\u001b[0m\u001b[1;33m(\u001b[0m\u001b[1;33m[\u001b[0m\u001b[1;36m41.3870154\u001b[0m\u001b[1;33m,\u001b[0m \u001b[1;36m2.170047\u001b[0m\u001b[1;33m]\u001b[0m\u001b[1;33m)\u001b[0m\u001b[1;33m\u001b[0m\u001b[1;33m\u001b[0m\u001b[0m\n\u001b[0m\u001b[0;32m      3\u001b[0m \u001b[0mprint\u001b[0m\u001b[1;33m(\u001b[0m\u001b[0mg\u001b[0m\u001b[1;33m.\u001b[0m\u001b[0mmeters\u001b[0m\u001b[1;33m)\u001b[0m\u001b[1;33m\u001b[0m\u001b[1;33m\u001b[0m\u001b[0m\n",
      "\u001b[1;32m~\\Anaconda3\\lib\\site-packages\\geocoder\\api.py\u001b[0m in \u001b[0;36melevation\u001b[1;34m(location, **kwargs)\u001b[0m\n\u001b[0;32m    320\u001b[0m     \u001b[1;33m:\u001b[0m\u001b[0mparam\u001b[0m\u001b[0;31m \u001b[0m\u001b[0;31m`\u001b[0m\u001b[0;31m`\u001b[0m\u001b[0mlocation\u001b[0m\u001b[0;31m`\u001b[0m\u001b[0;31m`\u001b[0m\u001b[1;33m:\u001b[0m \u001b[0mYour\u001b[0m \u001b[0msearch\u001b[0m \u001b[0mlocation\u001b[0m \u001b[0myou\u001b[0m \u001b[0mwant\u001b[0m \u001b[0mto\u001b[0m \u001b[0mretrieve\u001b[0m \u001b[0melevation\u001b[0m \u001b[0mdata\u001b[0m\u001b[1;33m.\u001b[0m\u001b[1;33m\u001b[0m\u001b[1;33m\u001b[0m\u001b[0m\n\u001b[0;32m    321\u001b[0m     \"\"\"\n\u001b[1;32m--> 322\u001b[1;33m     \u001b[1;32mreturn\u001b[0m \u001b[0mget\u001b[0m\u001b[1;33m(\u001b[0m\u001b[0mlocation\u001b[0m\u001b[1;33m,\u001b[0m \u001b[0mmethod\u001b[0m\u001b[1;33m=\u001b[0m\u001b[1;34m'elevation'\u001b[0m\u001b[1;33m,\u001b[0m \u001b[0mprovider\u001b[0m\u001b[1;33m=\u001b[0m\u001b[1;34m'google'\u001b[0m\u001b[1;33m,\u001b[0m \u001b[1;33m**\u001b[0m\u001b[0mkwargs\u001b[0m\u001b[1;33m)\u001b[0m\u001b[1;33m\u001b[0m\u001b[1;33m\u001b[0m\u001b[0m\n\u001b[0m\u001b[0;32m    323\u001b[0m \u001b[1;33m\u001b[0m\u001b[0m\n\u001b[0;32m    324\u001b[0m \u001b[1;33m\u001b[0m\u001b[0m\n",
      "\u001b[1;32m~\\Anaconda3\\lib\\site-packages\\geocoder\\api.py\u001b[0m in \u001b[0;36mget\u001b[1;34m(location, **kwargs)\u001b[0m\n\u001b[0;32m    196\u001b[0m         \u001b[1;32mif\u001b[0m \u001b[0mmethod\u001b[0m \u001b[1;32mnot\u001b[0m \u001b[1;32min\u001b[0m \u001b[0moptions\u001b[0m\u001b[1;33m[\u001b[0m\u001b[0mprovider\u001b[0m\u001b[1;33m]\u001b[0m\u001b[1;33m:\u001b[0m\u001b[1;33m\u001b[0m\u001b[1;33m\u001b[0m\u001b[0m\n\u001b[0;32m    197\u001b[0m             \u001b[1;32mraise\u001b[0m \u001b[0mValueError\u001b[0m\u001b[1;33m(\u001b[0m\u001b[1;34m\"Invalid method\"\u001b[0m\u001b[1;33m)\u001b[0m\u001b[1;33m\u001b[0m\u001b[1;33m\u001b[0m\u001b[0m\n\u001b[1;32m--> 198\u001b[1;33m     \u001b[1;32mreturn\u001b[0m \u001b[0moptions\u001b[0m\u001b[1;33m[\u001b[0m\u001b[0mprovider\u001b[0m\u001b[1;33m]\u001b[0m\u001b[1;33m[\u001b[0m\u001b[0mmethod\u001b[0m\u001b[1;33m]\u001b[0m\u001b[1;33m(\u001b[0m\u001b[0mlocation\u001b[0m\u001b[1;33m,\u001b[0m \u001b[1;33m**\u001b[0m\u001b[0mkwargs\u001b[0m\u001b[1;33m)\u001b[0m\u001b[1;33m\u001b[0m\u001b[1;33m\u001b[0m\u001b[0m\n\u001b[0m\u001b[0;32m    199\u001b[0m \u001b[1;33m\u001b[0m\u001b[0m\n\u001b[0;32m    200\u001b[0m \u001b[1;33m\u001b[0m\u001b[0m\n",
      "\u001b[1;32m~\\Anaconda3\\lib\\site-packages\\geocoder\\base.py\u001b[0m in \u001b[0;36m__init__\u001b[1;34m(self, location, **kwargs)\u001b[0m\n\u001b[0;32m    378\u001b[0m \u001b[1;33m\u001b[0m\u001b[0m\n\u001b[0;32m    379\u001b[0m         \u001b[1;31m# check validity of provider key\u001b[0m\u001b[1;33m\u001b[0m\u001b[1;33m\u001b[0m\u001b[1;33m\u001b[0m\u001b[0m\n\u001b[1;32m--> 380\u001b[1;33m         \u001b[0mprovider_key\u001b[0m \u001b[1;33m=\u001b[0m \u001b[0mself\u001b[0m\u001b[1;33m.\u001b[0m\u001b[0m_get_api_key\u001b[0m\u001b[1;33m(\u001b[0m\u001b[0mkwargs\u001b[0m\u001b[1;33m.\u001b[0m\u001b[0mpop\u001b[0m\u001b[1;33m(\u001b[0m\u001b[1;34m'key'\u001b[0m\u001b[1;33m,\u001b[0m \u001b[1;34m''\u001b[0m\u001b[1;33m)\u001b[0m\u001b[1;33m)\u001b[0m\u001b[1;33m\u001b[0m\u001b[1;33m\u001b[0m\u001b[0m\n\u001b[0m\u001b[0;32m    381\u001b[0m \u001b[1;33m\u001b[0m\u001b[0m\n\u001b[0;32m    382\u001b[0m         \u001b[1;31m# point to geocode, as a string or coordinates\u001b[0m\u001b[1;33m\u001b[0m\u001b[1;33m\u001b[0m\u001b[1;33m\u001b[0m\u001b[0m\n",
      "\u001b[1;32m~\\Anaconda3\\lib\\site-packages\\geocoder\\base.py\u001b[0m in \u001b[0;36m_get_api_key\u001b[1;34m(cls, key)\u001b[0m\n\u001b[0;32m    354\u001b[0m         \u001b[1;31m# raise exception if not valid key found\u001b[0m\u001b[1;33m\u001b[0m\u001b[1;33m\u001b[0m\u001b[1;33m\u001b[0m\u001b[0m\n\u001b[0;32m    355\u001b[0m         \u001b[1;32mif\u001b[0m \u001b[1;32mnot\u001b[0m \u001b[0mkey\u001b[0m \u001b[1;32mand\u001b[0m \u001b[0mcls\u001b[0m\u001b[1;33m.\u001b[0m\u001b[0m_KEY_MANDATORY\u001b[0m\u001b[1;33m:\u001b[0m\u001b[1;33m\u001b[0m\u001b[1;33m\u001b[0m\u001b[0m\n\u001b[1;32m--> 356\u001b[1;33m             \u001b[1;32mraise\u001b[0m \u001b[0mValueError\u001b[0m\u001b[1;33m(\u001b[0m\u001b[1;34m'Provide API Key'\u001b[0m\u001b[1;33m)\u001b[0m\u001b[1;33m\u001b[0m\u001b[1;33m\u001b[0m\u001b[0m\n\u001b[0m\u001b[0;32m    357\u001b[0m \u001b[1;33m\u001b[0m\u001b[0m\n\u001b[0;32m    358\u001b[0m         \u001b[1;32mreturn\u001b[0m \u001b[0mkey\u001b[0m\u001b[1;33m\u001b[0m\u001b[1;33m\u001b[0m\u001b[0m\n",
      "\u001b[1;31mValueError\u001b[0m: Provide API Key"
     ]
    }
   ],
   "source": [
    "#Testing out\n",
    "#g = geocoder.elevation([41.3870154, 2.170047])\n",
    "#print(g.meters)"
   ]
  }
 ],
 "metadata": {
  "kernelspec": {
   "display_name": "Python 3",
   "language": "python",
   "name": "python3"
  },
  "language_info": {
   "codemirror_mode": {
    "name": "ipython",
    "version": 3
   },
   "file_extension": ".py",
   "mimetype": "text/x-python",
   "name": "python",
   "nbconvert_exporter": "python",
   "pygments_lexer": "ipython3",
   "version": "3.7.3"
  }
 },
 "nbformat": 4,
 "nbformat_minor": 2
}
