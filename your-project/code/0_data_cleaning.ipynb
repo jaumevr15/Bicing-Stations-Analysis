{
 "cells": [
  {
   "cell_type": "markdown",
   "metadata": {},
   "source": [
    "# Bicing data cleaning\n",
    "## The objective of this notebook\n",
    "This notebook goes through the cleaning process of the Bicing usage dataset. \n",
    "You can find the source of the dataser here: https://opendata-ajuntament.barcelona.cat/data/en/dataset/estat-estacions-bicing\n",
    "\n",
    "## What to achieve\n",
    "The idea is to try to identify different trends on the behaviour of the stations during a regular day. Initially we suppose that stations will behave differently according to their location (is it a residencial station? Or an office one?). In order to do so we need to identify which data will help us answer this."
   ]
  },
  {
   "cell_type": "code",
   "execution_count": 62,
   "metadata": {},
   "outputs": [],
   "source": [
    "#Importing the required libraries\n",
    "import pandas as pd\n",
    "import seaborn as sns\n",
    "import datetime as dt\n"
   ]
  },
  {
   "cell_type": "code",
   "execution_count": 63,
   "metadata": {},
   "outputs": [],
   "source": [
    "octubre = pd.read_csv(\"..\\\\Dataset\\\\2019_10_Octubre_BicingNou_ESTACIONS.csv\",encoding=\"utf_8\")"
   ]
  },
  {
   "cell_type": "code",
   "execution_count": 64,
   "metadata": {},
   "outputs": [
    {
     "name": "stdout",
     "output_type": "stream",
     "text": [
      "<class 'pandas.core.frame.DataFrame'>\n",
      "RangeIndex: 3655823 entries, 0 to 3655822\n",
      "Data columns (total 13 columns):\n",
      "station_id                              int64\n",
      "num_bikes_available                     int64\n",
      "num_bikes_available_types.mechanical    int64\n",
      "num_bikes_available_types.ebike         int64\n",
      "num_docks_available                     int64\n",
      "is_installed                            int64\n",
      "is_renting                              int64\n",
      "is_returning                            int64\n",
      "last_reported                           float64\n",
      "is_charging_station                     bool\n",
      "status                                  object\n",
      "last_updated                            int64\n",
      "ttl                                     int64\n",
      "dtypes: bool(1), float64(1), int64(10), object(1)\n",
      "memory usage: 338.2+ MB\n"
     ]
    }
   ],
   "source": [
    "#Checking how does the dataset look like\n",
    "octubre.info()"
   ]
  },
  {
   "cell_type": "code",
   "execution_count": 65,
   "metadata": {},
   "outputs": [
    {
     "data": {
      "text/html": [
       "<div>\n",
       "<style scoped>\n",
       "    .dataframe tbody tr th:only-of-type {\n",
       "        vertical-align: middle;\n",
       "    }\n",
       "\n",
       "    .dataframe tbody tr th {\n",
       "        vertical-align: top;\n",
       "    }\n",
       "\n",
       "    .dataframe thead th {\n",
       "        text-align: right;\n",
       "    }\n",
       "</style>\n",
       "<table border=\"1\" class=\"dataframe\">\n",
       "  <thead>\n",
       "    <tr style=\"text-align: right;\">\n",
       "      <th></th>\n",
       "      <th>station_id</th>\n",
       "      <th>num_bikes_available</th>\n",
       "      <th>num_bikes_available_types.mechanical</th>\n",
       "      <th>num_bikes_available_types.ebike</th>\n",
       "      <th>num_docks_available</th>\n",
       "      <th>is_installed</th>\n",
       "      <th>is_renting</th>\n",
       "      <th>is_returning</th>\n",
       "      <th>last_reported</th>\n",
       "      <th>is_charging_station</th>\n",
       "      <th>status</th>\n",
       "      <th>last_updated</th>\n",
       "      <th>ttl</th>\n",
       "    </tr>\n",
       "  </thead>\n",
       "  <tbody>\n",
       "    <tr>\n",
       "      <th>0</th>\n",
       "      <td>1</td>\n",
       "      <td>25</td>\n",
       "      <td>24</td>\n",
       "      <td>1</td>\n",
       "      <td>4</td>\n",
       "      <td>1</td>\n",
       "      <td>1</td>\n",
       "      <td>1</td>\n",
       "      <td>1.569881e+09</td>\n",
       "      <td>True</td>\n",
       "      <td>IN_SERVICE</td>\n",
       "      <td>1569880820</td>\n",
       "      <td>30</td>\n",
       "    </tr>\n",
       "    <tr>\n",
       "      <th>1</th>\n",
       "      <td>2</td>\n",
       "      <td>12</td>\n",
       "      <td>11</td>\n",
       "      <td>1</td>\n",
       "      <td>15</td>\n",
       "      <td>1</td>\n",
       "      <td>1</td>\n",
       "      <td>1</td>\n",
       "      <td>1.569881e+09</td>\n",
       "      <td>True</td>\n",
       "      <td>IN_SERVICE</td>\n",
       "      <td>1569880820</td>\n",
       "      <td>30</td>\n",
       "    </tr>\n",
       "    <tr>\n",
       "      <th>2</th>\n",
       "      <td>3</td>\n",
       "      <td>19</td>\n",
       "      <td>19</td>\n",
       "      <td>0</td>\n",
       "      <td>8</td>\n",
       "      <td>1</td>\n",
       "      <td>1</td>\n",
       "      <td>1</td>\n",
       "      <td>1.569881e+09</td>\n",
       "      <td>True</td>\n",
       "      <td>IN_SERVICE</td>\n",
       "      <td>1569880820</td>\n",
       "      <td>30</td>\n",
       "    </tr>\n",
       "    <tr>\n",
       "      <th>3</th>\n",
       "      <td>4</td>\n",
       "      <td>15</td>\n",
       "      <td>15</td>\n",
       "      <td>0</td>\n",
       "      <td>3</td>\n",
       "      <td>1</td>\n",
       "      <td>1</td>\n",
       "      <td>1</td>\n",
       "      <td>1.569881e+09</td>\n",
       "      <td>True</td>\n",
       "      <td>IN_SERVICE</td>\n",
       "      <td>1569880820</td>\n",
       "      <td>30</td>\n",
       "    </tr>\n",
       "    <tr>\n",
       "      <th>4</th>\n",
       "      <td>5</td>\n",
       "      <td>35</td>\n",
       "      <td>35</td>\n",
       "      <td>0</td>\n",
       "      <td>3</td>\n",
       "      <td>1</td>\n",
       "      <td>1</td>\n",
       "      <td>1</td>\n",
       "      <td>1.569881e+09</td>\n",
       "      <td>True</td>\n",
       "      <td>IN_SERVICE</td>\n",
       "      <td>1569880820</td>\n",
       "      <td>30</td>\n",
       "    </tr>\n",
       "  </tbody>\n",
       "</table>\n",
       "</div>"
      ],
      "text/plain": [
       "   station_id  num_bikes_available  num_bikes_available_types.mechanical  \\\n",
       "0           1                   25                                    24   \n",
       "1           2                   12                                    11   \n",
       "2           3                   19                                    19   \n",
       "3           4                   15                                    15   \n",
       "4           5                   35                                    35   \n",
       "\n",
       "   num_bikes_available_types.ebike  num_docks_available  is_installed  \\\n",
       "0                                1                    4             1   \n",
       "1                                1                   15             1   \n",
       "2                                0                    8             1   \n",
       "3                                0                    3             1   \n",
       "4                                0                    3             1   \n",
       "\n",
       "   is_renting  is_returning  last_reported  is_charging_station      status  \\\n",
       "0           1             1   1.569881e+09                 True  IN_SERVICE   \n",
       "1           1             1   1.569881e+09                 True  IN_SERVICE   \n",
       "2           1             1   1.569881e+09                 True  IN_SERVICE   \n",
       "3           1             1   1.569881e+09                 True  IN_SERVICE   \n",
       "4           1             1   1.569881e+09                 True  IN_SERVICE   \n",
       "\n",
       "   last_updated  ttl  \n",
       "0    1569880820   30  \n",
       "1    1569880820   30  \n",
       "2    1569880820   30  \n",
       "3    1569880820   30  \n",
       "4    1569880820   30  "
      ]
     },
     "execution_count": 65,
     "metadata": {},
     "output_type": "execute_result"
    }
   ],
   "source": [
    "octubre.head()"
   ]
  },
  {
   "cell_type": "code",
   "execution_count": 66,
   "metadata": {},
   "outputs": [
    {
     "data": {
      "text/plain": [
       "station_id                              0\n",
       "num_bikes_available                     0\n",
       "num_bikes_available_types.mechanical    0\n",
       "num_bikes_available_types.ebike         0\n",
       "num_docks_available                     0\n",
       "is_installed                            0\n",
       "is_renting                              0\n",
       "is_returning                            0\n",
       "last_reported                           0\n",
       "is_charging_station                     0\n",
       "status                                  0\n",
       "last_updated                            0\n",
       "ttl                                     0\n",
       "dtype: int64"
      ]
     },
     "execution_count": 66,
     "metadata": {},
     "output_type": "execute_result"
    }
   ],
   "source": [
    "octubre.isnull().sum()"
   ]
  },
  {
   "cell_type": "code",
   "execution_count": 67,
   "metadata": {},
   "outputs": [
    {
     "data": {
      "text/plain": [
       "station_id                               int64\n",
       "num_bikes_available                      int64\n",
       "num_bikes_available_types.mechanical     int64\n",
       "num_bikes_available_types.ebike          int64\n",
       "num_docks_available                      int64\n",
       "is_installed                             int64\n",
       "is_renting                               int64\n",
       "is_returning                             int64\n",
       "last_reported                           object\n",
       "is_charging_station                       bool\n",
       "status                                  object\n",
       "last_updated                            object\n",
       "ttl                                      int64\n",
       "dtype: object"
      ]
     },
     "execution_count": 67,
     "metadata": {},
     "output_type": "execute_result"
    }
   ],
   "source": [
    "#We want the columns \"last_reported\" and \"last_updated\" to be datetime. At the moment they are values in Unix Epoch time.\n",
    "#In order to transform it, we should change the type from float to integer, and then to string (we want to make sure no .0)\n",
    "octubre.last_reported = octubre.last_reported.astype(int)\n",
    "octubre.last_reported = octubre.last_reported.astype(str)\n",
    "octubre.last_updated = octubre.last_updated.astype(str)\n",
    "octubre.dtypes\n"
   ]
  },
  {
   "cell_type": "code",
   "execution_count": 68,
   "metadata": {},
   "outputs": [],
   "source": [
    "#Transforming from Unix Epoch time to datetime\n",
    "octubre.last_reported = pd.to_datetime(octubre.last_reported, unit = 's')\n",
    "octubre.last_updated = pd.to_datetime(octubre.last_updated, unit = 's')"
   ]
  },
  {
   "cell_type": "code",
   "execution_count": 69,
   "metadata": {},
   "outputs": [],
   "source": [
    "#We play with a particular station, in this case the one I use from home, with id 381 [Each station has an id that can be\n",
    "#found on the Bicing app.]\n",
    "home = octubre.query('station_id== 381')"
   ]
  },
  {
   "cell_type": "code",
   "execution_count": 70,
   "metadata": {},
   "outputs": [
    {
     "data": {
      "text/plain": [
       "<matplotlib.axes._subplots.AxesSubplot at 0x169adee9c50>"
      ]
     },
     "execution_count": 70,
     "metadata": {},
     "output_type": "execute_result"
    },
    {
     "data": {
      "image/png": "[encoded data removed]",
      "text/plain": [
       "<Figure size 432x288 with 1 Axes>"
      ]
     },
     "metadata": {
      "needs_background": "light"
     },
     "output_type": "display_data"
    }
   ],
   "source": [
    "#Trying to visualize the number of bikes available per last_reported. It shows the whole month, which is not clear.\n",
    "home_plot = home[[\"last_reported\",\"num_bikes_available\"]]\n",
    "home_plot.plot(x='last_reported', y='num_bikes_available', style='-')"
   ]
  },
  {
   "cell_type": "code",
   "execution_count": 71,
   "metadata": {},
   "outputs": [
    {
     "name": "stderr",
     "output_type": "stream",
     "text": [
      "C:\\Users\\jaume\\Anaconda3\\lib\\site-packages\\ipykernel_launcher.py:4: SettingWithCopyWarning: \n",
      "A value is trying to be set on a copy of a slice from a DataFrame.\n",
      "Try using .loc[row_indexer,col_indexer] = value instead\n",
      "\n",
      "See the caveats in the documentation: http://pandas.pydata.org/pandas-docs/stable/indexing.html#indexing-view-versus-copy\n",
      "  after removing the cwd from sys.path.\n"
     ]
    }
   ],
   "source": [
    "#We will check Ironhack's closest station and see how does it behave on a regular day.\n",
    "ironhack = octubre[octubre['station_id'] == 211]\n",
    "ih_bikes = ironhack[[\"last_reported\",\"num_bikes_available\"]]\n",
    "ih_bikes[\"last_reported\"] = ih_bikes[\"last_reported\"].astype(str)\n",
    "ih_bikes_day = ih_bikes[ih_bikes[\"last_reported\"].str.startswith('2019-10-18')]"
   ]
  },
  {
   "cell_type": "code",
   "execution_count": 72,
   "metadata": {
    "scrolled": true
   },
   "outputs": [
    {
     "data": {
      "text/plain": [
       "<matplotlib.axes._subplots.AxesSubplot at 0x1698f8be5c0>"
      ]
     },
     "execution_count": 72,
     "metadata": {},
     "output_type": "execute_result"
    },
    {
     "data": {
      "image/png": "[encoded data removed]",
      "text/plain": [
       "<Figure size 432x288 with 1 Axes>"
      ]
     },
     "metadata": {
      "needs_background": "light"
     },
     "output_type": "display_data"
    }
   ],
   "source": [
    "ih_bikes_day.plot(x='last_reported', y='num_bikes_available', style='-')"
   ]
  },
  {
   "cell_type": "markdown",
   "metadata": {},
   "source": [
    "There are 4 moments of the day, on which two are busier and two the station is almost empty."
   ]
  },
  {
   "cell_type": "code",
   "execution_count": 124,
   "metadata": {},
   "outputs": [
    {
     "data": {
      "text/plain": [
       "<matplotlib.axes._subplots.AxesSubplot at 0x16982ebc0b8>"
      ]
     },
     "execution_count": 124,
     "metadata": {},
     "output_type": "execute_result"
    },
    {
     "data": {
      "image/png": "[encoded data removed]",
      "text/plain": [
       "<Figure size 432x288 with 1 Axes>"
      ]
     },
     "metadata": {
      "needs_background": "light"
     },
     "output_type": "display_data"
    }
   ],
   "source": [
    "#By doing the same on the 'Home' station, which is initially a residential area, what do we see?\n",
    "home = octubre.query('station_id== 381')\n",
    "home_day = home_day[home_day.last_updated.dt.day == 18]\n",
    "home_day.plot(x='last_reported', y='num_bikes_available', style='-')"
   ]
  },
  {
   "cell_type": "markdown",
   "metadata": {},
   "source": [
    "There are three moments, a more full one at the very beginning of the day, a quick drop and emptier time during the day, and slowly gets more bikes towards the end of the day."
   ]
  },
  {
   "cell_type": "markdown",
   "metadata": {},
   "source": [
    "# Deleting unneeded columns \n",
    "We will initially need:\n",
    "* Which station are we analyzing \"station_id\"\n",
    "* How many bikes at the station \"num_bikes_available\"\n",
    "* How many docks available \"num_docks_available\"\n",
    "* We will check if \"is_installed\", \"is_renting\" and \"is_returning\" are actually relevant or if we can keep \"status\"\n",
    "* We will keep only last_updated to as it seems to be the shared time between stations\n",
    "\n",
    "- We will not distinguish between mechanical and ebikes at the moment.\n",
    "- We will drop last_reported and is_charging_station at the moment-"
   ]
  },
  {
   "cell_type": "code",
   "execution_count": 74,
   "metadata": {},
   "outputs": [
    {
     "data": {
      "text/html": [
       "<div>\n",
       "<style scoped>\n",
       "    .dataframe tbody tr th:only-of-type {\n",
       "        vertical-align: middle;\n",
       "    }\n",
       "\n",
       "    .dataframe tbody tr th {\n",
       "        vertical-align: top;\n",
       "    }\n",
       "\n",
       "    .dataframe thead th {\n",
       "        text-align: right;\n",
       "    }\n",
       "</style>\n",
       "<table border=\"1\" class=\"dataframe\">\n",
       "  <thead>\n",
       "    <tr style=\"text-align: right;\">\n",
       "      <th></th>\n",
       "      <th>station_id</th>\n",
       "      <th>num_bikes_available</th>\n",
       "      <th>num_bikes_available_types.mechanical</th>\n",
       "      <th>num_bikes_available_types.ebike</th>\n",
       "      <th>num_docks_available</th>\n",
       "      <th>is_installed</th>\n",
       "      <th>is_renting</th>\n",
       "      <th>is_returning</th>\n",
       "      <th>last_reported</th>\n",
       "      <th>is_charging_station</th>\n",
       "      <th>status</th>\n",
       "      <th>last_updated</th>\n",
       "      <th>ttl</th>\n",
       "    </tr>\n",
       "  </thead>\n",
       "  <tbody>\n",
       "    <tr>\n",
       "      <th>0</th>\n",
       "      <td>1</td>\n",
       "      <td>25</td>\n",
       "      <td>24</td>\n",
       "      <td>1</td>\n",
       "      <td>4</td>\n",
       "      <td>1</td>\n",
       "      <td>1</td>\n",
       "      <td>1</td>\n",
       "      <td>2019-09-30 22:00:01</td>\n",
       "      <td>True</td>\n",
       "      <td>IN_SERVICE</td>\n",
       "      <td>2019-09-30 22:00:20</td>\n",
       "      <td>30</td>\n",
       "    </tr>\n",
       "    <tr>\n",
       "      <th>1</th>\n",
       "      <td>2</td>\n",
       "      <td>12</td>\n",
       "      <td>11</td>\n",
       "      <td>1</td>\n",
       "      <td>15</td>\n",
       "      <td>1</td>\n",
       "      <td>1</td>\n",
       "      <td>1</td>\n",
       "      <td>2019-09-30 21:59:14</td>\n",
       "      <td>True</td>\n",
       "      <td>IN_SERVICE</td>\n",
       "      <td>2019-09-30 22:00:20</td>\n",
       "      <td>30</td>\n",
       "    </tr>\n",
       "    <tr>\n",
       "      <th>2</th>\n",
       "      <td>3</td>\n",
       "      <td>19</td>\n",
       "      <td>19</td>\n",
       "      <td>0</td>\n",
       "      <td>8</td>\n",
       "      <td>1</td>\n",
       "      <td>1</td>\n",
       "      <td>1</td>\n",
       "      <td>2019-09-30 21:59:47</td>\n",
       "      <td>True</td>\n",
       "      <td>IN_SERVICE</td>\n",
       "      <td>2019-09-30 22:00:20</td>\n",
       "      <td>30</td>\n",
       "    </tr>\n",
       "    <tr>\n",
       "      <th>3</th>\n",
       "      <td>4</td>\n",
       "      <td>15</td>\n",
       "      <td>15</td>\n",
       "      <td>0</td>\n",
       "      <td>3</td>\n",
       "      <td>1</td>\n",
       "      <td>1</td>\n",
       "      <td>1</td>\n",
       "      <td>2019-09-30 21:58:23</td>\n",
       "      <td>True</td>\n",
       "      <td>IN_SERVICE</td>\n",
       "      <td>2019-09-30 22:00:20</td>\n",
       "      <td>30</td>\n",
       "    </tr>\n",
       "    <tr>\n",
       "      <th>4</th>\n",
       "      <td>5</td>\n",
       "      <td>35</td>\n",
       "      <td>35</td>\n",
       "      <td>0</td>\n",
       "      <td>3</td>\n",
       "      <td>1</td>\n",
       "      <td>1</td>\n",
       "      <td>1</td>\n",
       "      <td>2019-09-30 21:56:25</td>\n",
       "      <td>True</td>\n",
       "      <td>IN_SERVICE</td>\n",
       "      <td>2019-09-30 22:00:20</td>\n",
       "      <td>30</td>\n",
       "    </tr>\n",
       "  </tbody>\n",
       "</table>\n",
       "</div>"
      ],
      "text/plain": [
       "   station_id  num_bikes_available  num_bikes_available_types.mechanical  \\\n",
       "0           1                   25                                    24   \n",
       "1           2                   12                                    11   \n",
       "2           3                   19                                    19   \n",
       "3           4                   15                                    15   \n",
       "4           5                   35                                    35   \n",
       "\n",
       "   num_bikes_available_types.ebike  num_docks_available  is_installed  \\\n",
       "0                                1                    4             1   \n",
       "1                                1                   15             1   \n",
       "2                                0                    8             1   \n",
       "3                                0                    3             1   \n",
       "4                                0                    3             1   \n",
       "\n",
       "   is_renting  is_returning       last_reported  is_charging_station  \\\n",
       "0           1             1 2019-09-30 22:00:01                 True   \n",
       "1           1             1 2019-09-30 21:59:14                 True   \n",
       "2           1             1 2019-09-30 21:59:47                 True   \n",
       "3           1             1 2019-09-30 21:58:23                 True   \n",
       "4           1             1 2019-09-30 21:56:25                 True   \n",
       "\n",
       "       status        last_updated  ttl  \n",
       "0  IN_SERVICE 2019-09-30 22:00:20   30  \n",
       "1  IN_SERVICE 2019-09-30 22:00:20   30  \n",
       "2  IN_SERVICE 2019-09-30 22:00:20   30  \n",
       "3  IN_SERVICE 2019-09-30 22:00:20   30  \n",
       "4  IN_SERVICE 2019-09-30 22:00:20   30  "
      ]
     },
     "execution_count": 74,
     "metadata": {},
     "output_type": "execute_result"
    }
   ],
   "source": [
    "octubre.head()"
   ]
  },
  {
   "cell_type": "code",
   "execution_count": 75,
   "metadata": {},
   "outputs": [],
   "source": [
    "#Dropping initially unneeded columns\n",
    "octubre.drop(columns=[\"num_bikes_available_types.mechanical\",\"num_bikes_available_types.ebike\",\"last_reported\",\"is_charging_station\"],inplace=True)"
   ]
  },
  {
   "cell_type": "code",
   "execution_count": 76,
   "metadata": {},
   "outputs": [
    {
     "data": {
      "text/plain": [
       "array(['IN_SERVICE', 'PLANNED', 'NOT_IN_SERVICE', 'MAINTENANCE'],\n",
       "      dtype=object)"
      ]
     },
     "execution_count": 76,
     "metadata": {},
     "output_type": "execute_result"
    }
   ],
   "source": [
    "#Let's check values of 'status'\n",
    "octubre.status.unique()"
   ]
  },
  {
   "cell_type": "code",
   "execution_count": 77,
   "metadata": {},
   "outputs": [],
   "source": [
    "#At the moment, our most priority is to know if station is working or not. We will simplify this column using binary values\n",
    "#0 will mean \"is not working\" and 1 will equal to 'IN_Service'"
   ]
  },
  {
   "cell_type": "code",
   "execution_count": 78,
   "metadata": {},
   "outputs": [],
   "source": [
    "#We make a list of the 'not working' stations, and replace the values for a 0, do the same for 'IN_SERVICE' as 1\n",
    "not_working = ['PLANNED', 'NOT_IN_SERVICE', 'MAINTENANCE']\n",
    "octubre.replace(to_replace=not_working,value=0,inplace=True)\n",
    "octubre.replace(to_replace='IN_SERVICE',value=1,inplace=True)"
   ]
  },
  {
   "cell_type": "code",
   "execution_count": 79,
   "metadata": {},
   "outputs": [
    {
     "data": {
      "text/plain": [
       "1    3618730\n",
       "0      37093\n",
       "Name: status, dtype: int64"
      ]
     },
     "execution_count": 79,
     "metadata": {},
     "output_type": "execute_result"
    }
   ],
   "source": [
    "octubre.status.value_counts()"
   ]
  },
  {
   "cell_type": "code",
   "execution_count": 44,
   "metadata": {},
   "outputs": [],
   "source": [
    "#Now that we have all the columns as numbers, we can check their correlation and decide if we can drop\n",
    "#is_installed, is_renting and is_returning"
   ]
  },
  {
   "cell_type": "code",
   "execution_count": 80,
   "metadata": {},
   "outputs": [
    {
     "data": {
      "text/html": [
       "<div>\n",
       "<style scoped>\n",
       "    .dataframe tbody tr th:only-of-type {\n",
       "        vertical-align: middle;\n",
       "    }\n",
       "\n",
       "    .dataframe tbody tr th {\n",
       "        vertical-align: top;\n",
       "    }\n",
       "\n",
       "    .dataframe thead th {\n",
       "        text-align: right;\n",
       "    }\n",
       "</style>\n",
       "<table border=\"1\" class=\"dataframe\">\n",
       "  <thead>\n",
       "    <tr style=\"text-align: right;\">\n",
       "      <th></th>\n",
       "      <th>station_id</th>\n",
       "      <th>num_bikes_available</th>\n",
       "      <th>num_docks_available</th>\n",
       "      <th>is_installed</th>\n",
       "      <th>is_renting</th>\n",
       "      <th>is_returning</th>\n",
       "      <th>status</th>\n",
       "      <th>ttl</th>\n",
       "    </tr>\n",
       "  </thead>\n",
       "  <tbody>\n",
       "    <tr>\n",
       "      <th>station_id</th>\n",
       "      <td>1.000000</td>\n",
       "      <td>-0.003626</td>\n",
       "      <td>0.111034</td>\n",
       "      <td>-0.045797</td>\n",
       "      <td>-0.046471</td>\n",
       "      <td>-0.046468</td>\n",
       "      <td>-0.046468</td>\n",
       "      <td>-0.000017</td>\n",
       "    </tr>\n",
       "    <tr>\n",
       "      <th>num_bikes_available</th>\n",
       "      <td>-0.003626</td>\n",
       "      <td>1.000000</td>\n",
       "      <td>-0.829789</td>\n",
       "      <td>0.098514</td>\n",
       "      <td>0.104712</td>\n",
       "      <td>0.104709</td>\n",
       "      <td>0.104709</td>\n",
       "      <td>0.002220</td>\n",
       "    </tr>\n",
       "    <tr>\n",
       "      <th>num_docks_available</th>\n",
       "      <td>0.111034</td>\n",
       "      <td>-0.829789</td>\n",
       "      <td>1.000000</td>\n",
       "      <td>-0.079638</td>\n",
       "      <td>-0.073274</td>\n",
       "      <td>-0.073272</td>\n",
       "      <td>-0.073272</td>\n",
       "      <td>-0.002256</td>\n",
       "    </tr>\n",
       "    <tr>\n",
       "      <th>is_installed</th>\n",
       "      <td>-0.045797</td>\n",
       "      <td>0.098514</td>\n",
       "      <td>-0.079638</td>\n",
       "      <td>1.000000</td>\n",
       "      <td>0.940810</td>\n",
       "      <td>0.940836</td>\n",
       "      <td>0.940836</td>\n",
       "      <td>-0.000099</td>\n",
       "    </tr>\n",
       "    <tr>\n",
       "      <th>is_renting</th>\n",
       "      <td>-0.046471</td>\n",
       "      <td>0.104712</td>\n",
       "      <td>-0.073274</td>\n",
       "      <td>0.940810</td>\n",
       "      <td>1.000000</td>\n",
       "      <td>0.999973</td>\n",
       "      <td>0.999973</td>\n",
       "      <td>-0.000036</td>\n",
       "    </tr>\n",
       "    <tr>\n",
       "      <th>is_returning</th>\n",
       "      <td>-0.046468</td>\n",
       "      <td>0.104709</td>\n",
       "      <td>-0.073272</td>\n",
       "      <td>0.940836</td>\n",
       "      <td>0.999973</td>\n",
       "      <td>1.000000</td>\n",
       "      <td>1.000000</td>\n",
       "      <td>-0.000043</td>\n",
       "    </tr>\n",
       "    <tr>\n",
       "      <th>status</th>\n",
       "      <td>-0.046468</td>\n",
       "      <td>0.104709</td>\n",
       "      <td>-0.073272</td>\n",
       "      <td>0.940836</td>\n",
       "      <td>0.999973</td>\n",
       "      <td>1.000000</td>\n",
       "      <td>1.000000</td>\n",
       "      <td>-0.000043</td>\n",
       "    </tr>\n",
       "    <tr>\n",
       "      <th>ttl</th>\n",
       "      <td>-0.000017</td>\n",
       "      <td>0.002220</td>\n",
       "      <td>-0.002256</td>\n",
       "      <td>-0.000099</td>\n",
       "      <td>-0.000036</td>\n",
       "      <td>-0.000043</td>\n",
       "      <td>-0.000043</td>\n",
       "      <td>1.000000</td>\n",
       "    </tr>\n",
       "  </tbody>\n",
       "</table>\n",
       "</div>"
      ],
      "text/plain": [
       "                     station_id  num_bikes_available  num_docks_available  \\\n",
       "station_id             1.000000            -0.003626             0.111034   \n",
       "num_bikes_available   -0.003626             1.000000            -0.829789   \n",
       "num_docks_available    0.111034            -0.829789             1.000000   \n",
       "is_installed          -0.045797             0.098514            -0.079638   \n",
       "is_renting            -0.046471             0.104712            -0.073274   \n",
       "is_returning          -0.046468             0.104709            -0.073272   \n",
       "status                -0.046468             0.104709            -0.073272   \n",
       "ttl                   -0.000017             0.002220            -0.002256   \n",
       "\n",
       "                     is_installed  is_renting  is_returning    status  \\\n",
       "station_id              -0.045797   -0.046471     -0.046468 -0.046468   \n",
       "num_bikes_available      0.098514    0.104712      0.104709  0.104709   \n",
       "num_docks_available     -0.079638   -0.073274     -0.073272 -0.073272   \n",
       "is_installed             1.000000    0.940810      0.940836  0.940836   \n",
       "is_renting               0.940810    1.000000      0.999973  0.999973   \n",
       "is_returning             0.940836    0.999973      1.000000  1.000000   \n",
       "status                   0.940836    0.999973      1.000000  1.000000   \n",
       "ttl                     -0.000099   -0.000036     -0.000043 -0.000043   \n",
       "\n",
       "                          ttl  \n",
       "station_id          -0.000017  \n",
       "num_bikes_available  0.002220  \n",
       "num_docks_available -0.002256  \n",
       "is_installed        -0.000099  \n",
       "is_renting          -0.000036  \n",
       "is_returning        -0.000043  \n",
       "status              -0.000043  \n",
       "ttl                  1.000000  "
      ]
     },
     "execution_count": 80,
     "metadata": {},
     "output_type": "execute_result"
    }
   ],
   "source": [
    "octubre.corr()"
   ]
  },
  {
   "cell_type": "markdown",
   "metadata": {},
   "source": [
    "We see how 'status' is very correlated with 'is installed', 'is_renting' and 'is_returning' for this reason it makes no sense to keep them all 4 and we can consider 'status' as the one that defines if the station is working or not."
   ]
  },
  {
   "cell_type": "code",
   "execution_count": 81,
   "metadata": {},
   "outputs": [],
   "source": [
    "octubre.drop(columns=[\"is_installed\",\"is_renting\",\"is_returning\"],inplace=True)"
   ]
  },
  {
   "cell_type": "code",
   "execution_count": 82,
   "metadata": {},
   "outputs": [
    {
     "data": {
      "text/html": [
       "<div>\n",
       "<style scoped>\n",
       "    .dataframe tbody tr th:only-of-type {\n",
       "        vertical-align: middle;\n",
       "    }\n",
       "\n",
       "    .dataframe tbody tr th {\n",
       "        vertical-align: top;\n",
       "    }\n",
       "\n",
       "    .dataframe thead th {\n",
       "        text-align: right;\n",
       "    }\n",
       "</style>\n",
       "<table border=\"1\" class=\"dataframe\">\n",
       "  <thead>\n",
       "    <tr style=\"text-align: right;\">\n",
       "      <th></th>\n",
       "      <th>station_id</th>\n",
       "      <th>num_bikes_available</th>\n",
       "      <th>num_docks_available</th>\n",
       "      <th>status</th>\n",
       "      <th>last_updated</th>\n",
       "      <th>ttl</th>\n",
       "    </tr>\n",
       "  </thead>\n",
       "  <tbody>\n",
       "    <tr>\n",
       "      <th>0</th>\n",
       "      <td>1</td>\n",
       "      <td>25</td>\n",
       "      <td>4</td>\n",
       "      <td>1</td>\n",
       "      <td>2019-09-30 22:00:20</td>\n",
       "      <td>30</td>\n",
       "    </tr>\n",
       "    <tr>\n",
       "      <th>1</th>\n",
       "      <td>2</td>\n",
       "      <td>12</td>\n",
       "      <td>15</td>\n",
       "      <td>1</td>\n",
       "      <td>2019-09-30 22:00:20</td>\n",
       "      <td>30</td>\n",
       "    </tr>\n",
       "    <tr>\n",
       "      <th>2</th>\n",
       "      <td>3</td>\n",
       "      <td>19</td>\n",
       "      <td>8</td>\n",
       "      <td>1</td>\n",
       "      <td>2019-09-30 22:00:20</td>\n",
       "      <td>30</td>\n",
       "    </tr>\n",
       "    <tr>\n",
       "      <th>3</th>\n",
       "      <td>4</td>\n",
       "      <td>15</td>\n",
       "      <td>3</td>\n",
       "      <td>1</td>\n",
       "      <td>2019-09-30 22:00:20</td>\n",
       "      <td>30</td>\n",
       "    </tr>\n",
       "    <tr>\n",
       "      <th>4</th>\n",
       "      <td>5</td>\n",
       "      <td>35</td>\n",
       "      <td>3</td>\n",
       "      <td>1</td>\n",
       "      <td>2019-09-30 22:00:20</td>\n",
       "      <td>30</td>\n",
       "    </tr>\n",
       "  </tbody>\n",
       "</table>\n",
       "</div>"
      ],
      "text/plain": [
       "   station_id  num_bikes_available  num_docks_available  status  \\\n",
       "0           1                   25                    4       1   \n",
       "1           2                   12                   15       1   \n",
       "2           3                   19                    8       1   \n",
       "3           4                   15                    3       1   \n",
       "4           5                   35                    3       1   \n",
       "\n",
       "         last_updated  ttl  \n",
       "0 2019-09-30 22:00:20   30  \n",
       "1 2019-09-30 22:00:20   30  \n",
       "2 2019-09-30 22:00:20   30  \n",
       "3 2019-09-30 22:00:20   30  \n",
       "4 2019-09-30 22:00:20   30  "
      ]
     },
     "execution_count": 82,
     "metadata": {},
     "output_type": "execute_result"
    }
   ],
   "source": [
    "octubre.head()"
   ]
  },
  {
   "cell_type": "code",
   "execution_count": 83,
   "metadata": {},
   "outputs": [],
   "source": [
    "#We will keep 'ttl' as number of docks in the station just in case we decide to play with % in the future."
   ]
  },
  {
   "cell_type": "markdown",
   "metadata": {},
   "source": [
    "# How do we manage time?"
   ]
  },
  {
   "cell_type": "code",
   "execution_count": 85,
   "metadata": {},
   "outputs": [
    {
     "data": {
      "text/plain": [
       "8916"
      ]
     },
     "execution_count": 85,
     "metadata": {},
     "output_type": "execute_result"
    }
   ],
   "source": [
    "#There are 8916 total different timeframes at the moment\n",
    "len(octubre.last_updated.value_counts())"
   ]
  },
  {
   "cell_type": "code",
   "execution_count": 86,
   "metadata": {},
   "outputs": [
    {
     "data": {
      "text/plain": [
       "0   2019-09-30 22:00:20\n",
       "1   2019-09-30 22:00:20\n",
       "2   2019-09-30 22:00:20\n",
       "3   2019-09-30 22:00:20\n",
       "4   2019-09-30 22:00:20\n",
       "Name: last_updated, dtype: datetime64[ns]"
      ]
     },
     "execution_count": 86,
     "metadata": {},
     "output_type": "execute_result"
    }
   ],
   "source": [
    "#We are seeing the dataset contains value from September, we will delete that\n",
    "octubre.last_updated.head()"
   ]
  },
  {
   "cell_type": "code",
   "execution_count": 116,
   "metadata": {
    "scrolled": true
   },
   "outputs": [],
   "source": [
    "octubre = octubre[octubre.last_updated.dt.month == 10]"
   ]
  },
  {
   "cell_type": "code",
   "execution_count": 118,
   "metadata": {},
   "outputs": [
    {
     "data": {
      "text/html": [
       "<div>\n",
       "<style scoped>\n",
       "    .dataframe tbody tr th:only-of-type {\n",
       "        vertical-align: middle;\n",
       "    }\n",
       "\n",
       "    .dataframe tbody tr th {\n",
       "        vertical-align: top;\n",
       "    }\n",
       "\n",
       "    .dataframe thead th {\n",
       "        text-align: right;\n",
       "    }\n",
       "</style>\n",
       "<table border=\"1\" class=\"dataframe\">\n",
       "  <thead>\n",
       "    <tr style=\"text-align: right;\">\n",
       "      <th></th>\n",
       "      <th>station_id</th>\n",
       "      <th>num_bikes_available</th>\n",
       "      <th>num_docks_available</th>\n",
       "      <th>status</th>\n",
       "      <th>last_updated</th>\n",
       "      <th>ttl</th>\n",
       "    </tr>\n",
       "  </thead>\n",
       "  <tbody>\n",
       "    <tr>\n",
       "      <th>10250</th>\n",
       "      <td>1</td>\n",
       "      <td>27</td>\n",
       "      <td>2</td>\n",
       "      <td>1</td>\n",
       "      <td>2019-10-01 00:05:10</td>\n",
       "      <td>20</td>\n",
       "    </tr>\n",
       "    <tr>\n",
       "      <th>10251</th>\n",
       "      <td>2</td>\n",
       "      <td>12</td>\n",
       "      <td>15</td>\n",
       "      <td>1</td>\n",
       "      <td>2019-10-01 00:05:10</td>\n",
       "      <td>20</td>\n",
       "    </tr>\n",
       "    <tr>\n",
       "      <th>10252</th>\n",
       "      <td>3</td>\n",
       "      <td>18</td>\n",
       "      <td>9</td>\n",
       "      <td>1</td>\n",
       "      <td>2019-10-01 00:05:10</td>\n",
       "      <td>20</td>\n",
       "    </tr>\n",
       "    <tr>\n",
       "      <th>10253</th>\n",
       "      <td>4</td>\n",
       "      <td>14</td>\n",
       "      <td>4</td>\n",
       "      <td>1</td>\n",
       "      <td>2019-10-01 00:05:10</td>\n",
       "      <td>20</td>\n",
       "    </tr>\n",
       "    <tr>\n",
       "      <th>10254</th>\n",
       "      <td>5</td>\n",
       "      <td>36</td>\n",
       "      <td>2</td>\n",
       "      <td>1</td>\n",
       "      <td>2019-10-01 00:05:10</td>\n",
       "      <td>20</td>\n",
       "    </tr>\n",
       "  </tbody>\n",
       "</table>\n",
       "</div>"
      ],
      "text/plain": [
       "       station_id  num_bikes_available  num_docks_available  status  \\\n",
       "10250           1                   27                    2       1   \n",
       "10251           2                   12                   15       1   \n",
       "10252           3                   18                    9       1   \n",
       "10253           4                   14                    4       1   \n",
       "10254           5                   36                    2       1   \n",
       "\n",
       "             last_updated  ttl  \n",
       "10250 2019-10-01 00:05:10   20  \n",
       "10251 2019-10-01 00:05:10   20  \n",
       "10252 2019-10-01 00:05:10   20  \n",
       "10253 2019-10-01 00:05:10   20  \n",
       "10254 2019-10-01 00:05:10   20  "
      ]
     },
     "execution_count": 118,
     "metadata": {},
     "output_type": "execute_result"
    }
   ],
   "source": [
    "octubre.head()"
   ]
  },
  {
   "cell_type": "code",
   "execution_count": 121,
   "metadata": {},
   "outputs": [],
   "source": [
    "octubre.to_csv(\"..\\\\Dataset\\\\October_cleaned.csv\",encoding=\"utf_8\")"
   ]
  }
 ],
 "metadata": {
  "file_extension": ".py",
  "kernelspec": {
   "display_name": "Python 3",
   "language": "python",
   "name": "python3"
  },
  "language_info": {
   "codemirror_mode": {
    "name": "ipython",
    "version": 3
   },
   "file_extension": ".py",
   "mimetype": "text/x-python",
   "name": "python",
   "nbconvert_exporter": "python",
   "pygments_lexer": "ipython3",
   "version": "3.7.3"
  },
  "mimetype": "text/x-python",
  "name": "python",
  "npconvert_exporter": "python",
  "pygments_lexer": "ipython3",
  "version": 3
 },
 "nbformat": 4,
 "nbformat_minor": 2
}
