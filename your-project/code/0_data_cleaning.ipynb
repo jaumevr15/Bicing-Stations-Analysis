{
 "cells": [
  {
   "cell_type": "markdown",
   "metadata": {},
   "source": [
    "# Bicing data cleaning\n",
    "## The objective of this notebook\n",
    "This notebook goes through the cleaning process of the Bicing usage dataset. \n",
    "You can find the source of the dataser here: https://opendata-ajuntament.barcelona.cat/data/en/dataset/estat-estacions-bicing\n",
    "\n",
    "## What to achieve\n",
    "The idea is to try to identify different trends on the behaviour of the stations during a regular day. Initially we suppose that stations will behave differently according to their location (is it a residencial station? Or an office one?). In order to do so we need to identify which data will help us answer this."
   ]
  },
  {
   "cell_type": "code",
   "execution_count": 1,
   "metadata": {},
   "outputs": [],
   "source": [
    "#Importing the required libraries\n",
    "import pandas as pd\n",
    "import seaborn as sns\n",
    "import datetime as dt\n"
   ]
  },
  {
   "cell_type": "code",
   "execution_count": 2,
   "metadata": {},
   "outputs": [],
   "source": [
    "octubre = pd.read_csv(\"..\\\\Dataset\\\\2019_10_Octubre_BicingNou_ESTACIONS.csv\",encoding=\"utf_8\")"
   ]
  },
  {
   "cell_type": "code",
   "execution_count": null,
   "metadata": {},
   "outputs": [],
   "source": [
    "#Checking how does the dataset look like\n",
    "octubre.info()"
   ]
  },
  {
   "cell_type": "code",
   "execution_count": 6,
   "metadata": {},
   "outputs": [
    {
     "data": {
      "text/html": [
       "<div>\n",
       "<style scoped>\n",
       "    .dataframe tbody tr th:only-of-type {\n",
       "        vertical-align: middle;\n",
       "    }\n",
       "\n",
       "    .dataframe tbody tr th {\n",
       "        vertical-align: top;\n",
       "    }\n",
       "\n",
       "    .dataframe thead th {\n",
       "        text-align: right;\n",
       "    }\n",
       "</style>\n",
       "<table border=\"1\" class=\"dataframe\">\n",
       "  <thead>\n",
       "    <tr style=\"text-align: right;\">\n",
       "      <th></th>\n",
       "      <th>station_id</th>\n",
       "      <th>num_bikes_available</th>\n",
       "      <th>num_bikes_available_types.mechanical</th>\n",
       "      <th>num_bikes_available_types.ebike</th>\n",
       "      <th>num_docks_available</th>\n",
       "      <th>is_installed</th>\n",
       "      <th>is_renting</th>\n",
       "      <th>is_returning</th>\n",
       "      <th>last_reported</th>\n",
       "      <th>is_charging_station</th>\n",
       "      <th>status</th>\n",
       "      <th>last_updated</th>\n",
       "      <th>ttl</th>\n",
       "    </tr>\n",
       "  </thead>\n",
       "  <tbody>\n",
       "    <tr>\n",
       "      <th>0</th>\n",
       "      <td>1</td>\n",
       "      <td>25</td>\n",
       "      <td>24</td>\n",
       "      <td>1</td>\n",
       "      <td>4</td>\n",
       "      <td>1</td>\n",
       "      <td>1</td>\n",
       "      <td>1</td>\n",
       "      <td>1.569881e+09</td>\n",
       "      <td>True</td>\n",
       "      <td>IN_SERVICE</td>\n",
       "      <td>1569880820</td>\n",
       "      <td>30</td>\n",
       "    </tr>\n",
       "    <tr>\n",
       "      <th>1</th>\n",
       "      <td>2</td>\n",
       "      <td>12</td>\n",
       "      <td>11</td>\n",
       "      <td>1</td>\n",
       "      <td>15</td>\n",
       "      <td>1</td>\n",
       "      <td>1</td>\n",
       "      <td>1</td>\n",
       "      <td>1.569881e+09</td>\n",
       "      <td>True</td>\n",
       "      <td>IN_SERVICE</td>\n",
       "      <td>1569880820</td>\n",
       "      <td>30</td>\n",
       "    </tr>\n",
       "    <tr>\n",
       "      <th>2</th>\n",
       "      <td>3</td>\n",
       "      <td>19</td>\n",
       "      <td>19</td>\n",
       "      <td>0</td>\n",
       "      <td>8</td>\n",
       "      <td>1</td>\n",
       "      <td>1</td>\n",
       "      <td>1</td>\n",
       "      <td>1.569881e+09</td>\n",
       "      <td>True</td>\n",
       "      <td>IN_SERVICE</td>\n",
       "      <td>1569880820</td>\n",
       "      <td>30</td>\n",
       "    </tr>\n",
       "    <tr>\n",
       "      <th>3</th>\n",
       "      <td>4</td>\n",
       "      <td>15</td>\n",
       "      <td>15</td>\n",
       "      <td>0</td>\n",
       "      <td>3</td>\n",
       "      <td>1</td>\n",
       "      <td>1</td>\n",
       "      <td>1</td>\n",
       "      <td>1.569881e+09</td>\n",
       "      <td>True</td>\n",
       "      <td>IN_SERVICE</td>\n",
       "      <td>1569880820</td>\n",
       "      <td>30</td>\n",
       "    </tr>\n",
       "    <tr>\n",
       "      <th>4</th>\n",
       "      <td>5</td>\n",
       "      <td>35</td>\n",
       "      <td>35</td>\n",
       "      <td>0</td>\n",
       "      <td>3</td>\n",
       "      <td>1</td>\n",
       "      <td>1</td>\n",
       "      <td>1</td>\n",
       "      <td>1.569881e+09</td>\n",
       "      <td>True</td>\n",
       "      <td>IN_SERVICE</td>\n",
       "      <td>1569880820</td>\n",
       "      <td>30</td>\n",
       "    </tr>\n",
       "  </tbody>\n",
       "</table>\n",
       "</div>"
      ],
      "text/plain": [
       "   station_id  num_bikes_available  num_bikes_available_types.mechanical  \\\n",
       "0           1                   25                                    24   \n",
       "1           2                   12                                    11   \n",
       "2           3                   19                                    19   \n",
       "3           4                   15                                    15   \n",
       "4           5                   35                                    35   \n",
       "\n",
       "   num_bikes_available_types.ebike  num_docks_available  is_installed  \\\n",
       "0                                1                    4             1   \n",
       "1                                1                   15             1   \n",
       "2                                0                    8             1   \n",
       "3                                0                    3             1   \n",
       "4                                0                    3             1   \n",
       "\n",
       "   is_renting  is_returning  last_reported  is_charging_station      status  \\\n",
       "0           1             1   1.569881e+09                 True  IN_SERVICE   \n",
       "1           1             1   1.569881e+09                 True  IN_SERVICE   \n",
       "2           1             1   1.569881e+09                 True  IN_SERVICE   \n",
       "3           1             1   1.569881e+09                 True  IN_SERVICE   \n",
       "4           1             1   1.569881e+09                 True  IN_SERVICE   \n",
       "\n",
       "   last_updated  ttl  \n",
       "0    1569880820   30  \n",
       "1    1569880820   30  \n",
       "2    1569880820   30  \n",
       "3    1569880820   30  \n",
       "4    1569880820   30  "
      ]
     },
     "execution_count": 6,
     "metadata": {},
     "output_type": "execute_result"
    }
   ],
   "source": [
    "octubre.head()"
   ]
  },
  {
   "cell_type": "code",
   "execution_count": null,
   "metadata": {},
   "outputs": [],
   "source": [
    "octubre.isnull().sum()"
   ]
  },
  {
   "cell_type": "code",
   "execution_count": null,
   "metadata": {},
   "outputs": [],
   "source": [
    "#We want the columns \"last_reported\" and \"last_updated\" to be datetime. At the moment they are values in Unix Epoch time.\n",
    "#In order to transform it, we should change the type from float to integer, and then to string (we want to make sure no .0)\n",
    "octubre.last_reported = octubre.last_reported.astype(int)\n",
    "octubre.last_reported = octubre.last_reported.astype(str)\n",
    "octubre.last_updated = octubre.last_updated.astype(str)\n",
    "octubre.dtypes\n"
   ]
  },
  {
   "cell_type": "code",
   "execution_count": null,
   "metadata": {},
   "outputs": [],
   "source": [
    "#Transforming from Unix Epoch time to datetime\n",
    "octubre.last_reported = pd.to_datetime(octubre.last_reported, unit = 's')\n",
    "octubre.last_updated = pd.to_datetime(octubre.last_updated, unit = 's')"
   ]
  },
  {
   "cell_type": "code",
   "execution_count": null,
   "metadata": {},
   "outputs": [],
   "source": [
    "#We play with a particular station, in this case the one I use from home, with id 381 [Each station has an id that can be\n",
    "#found on the Bicing app.]\n",
    "home = octubre.query('station_id== 381')"
   ]
  },
  {
   "cell_type": "code",
   "execution_count": null,
   "metadata": {},
   "outputs": [],
   "source": [
    "#Trying to visualize the number of bikes available per last_reported. It shows the whole month, which is not clear.\n",
    "home_plot = home[[\"last_reported\",\"num_bikes_available\"]]\n",
    "home_plot.plot(x='last_reported', y='num_bikes_available', style='-')"
   ]
  },
  {
   "cell_type": "code",
   "execution_count": null,
   "metadata": {},
   "outputs": [],
   "source": [
    "#We will check Ironhack's closest station and see how does it behave on a regular day.\n",
    "ironhack = octubre[octubre['station_id'] == 211]\n",
    "ih_bikes = ironhack[[\"last_reported\",\"num_bikes_available\"]]\n",
    "ih_bikes[\"last_reported\"] = ih_bikes[\"last_reported\"].astype(str)\n",
    "ih_bikes_day = ih_bikes[ih_bikes[\"last_reported\"].str.startswith('2019-10-18')]"
   ]
  },
  {
   "cell_type": "code",
   "execution_count": null,
   "metadata": {
    "scrolled": true
   },
   "outputs": [],
   "source": [
    "ih_bikes_day.plot(x='last_reported', y='num_bikes_available', style='-')"
   ]
  },
  {
   "cell_type": "markdown",
   "metadata": {},
   "source": [
    "There are 4 moments of the day, on which two are busier and two the station is almost empty."
   ]
  },
  {
   "cell_type": "code",
   "execution_count": null,
   "metadata": {},
   "outputs": [],
   "source": [
    "#By doing the same on the 'Home' station, which is initially a residential area, what do we see?\n",
    "home = octubre.query('station_id== 381')\n",
    "home_day = home_day[home_day.last_updated.dt.day == 18]\n",
    "home_day.plot(x='last_reported', y='num_bikes_available', style='-')"
   ]
  },
  {
   "cell_type": "markdown",
   "metadata": {},
   "source": [
    "There are three moments, a more full one at the very beginning of the day, a quick drop and emptier time during the day, and slowly gets more bikes towards the end of the day."
   ]
  },
  {
   "cell_type": "markdown",
   "metadata": {},
   "source": [
    "# Deleting unneeded columns \n",
    "We will initially need:\n",
    "* Which station are we analyzing \"station_id\"\n",
    "* How many bikes at the station \"num_bikes_available\"\n",
    "* How many docks available \"num_docks_available\"\n",
    "* We will check if \"is_installed\", \"is_renting\" and \"is_returning\" are actually relevant or if we can keep \"status\"\n",
    "* We will keep only last_updated to as it seems to be the shared time between stations\n",
    "\n",
    "- We will not distinguish between mechanical and ebikes at the moment.\n",
    "- We will drop last_reported and is_charging_station at the moment-"
   ]
  },
  {
   "cell_type": "code",
   "execution_count": null,
   "metadata": {},
   "outputs": [],
   "source": [
    "octubre.head()"
   ]
  },
  {
   "cell_type": "code",
   "execution_count": null,
   "metadata": {},
   "outputs": [],
   "source": [
    "#Dropping initially unneeded columns\n",
    "octubre.drop(columns=[\"num_bikes_available_types.mechanical\",\"num_bikes_available_types.ebike\",\"last_reported\",\"is_charging_station\"],inplace=True)"
   ]
  },
  {
   "cell_type": "code",
   "execution_count": null,
   "metadata": {},
   "outputs": [],
   "source": [
    "#Let's check values of 'status'\n",
    "octubre.status.unique()"
   ]
  },
  {
   "cell_type": "code",
   "execution_count": null,
   "metadata": {},
   "outputs": [],
   "source": [
    "#At the moment, our most priority is to know if station is working or not. We will simplify this column using binary values\n",
    "#0 will mean \"is not working\" and 1 will equal to 'IN_Service'"
   ]
  },
  {
   "cell_type": "code",
   "execution_count": null,
   "metadata": {},
   "outputs": [],
   "source": [
    "#We make a list of the 'not working' stations, and replace the values for a 0, do the same for 'IN_SERVICE' as 1\n",
    "not_working = ['PLANNED', 'NOT_IN_SERVICE', 'MAINTENANCE']\n",
    "octubre.replace(to_replace=not_working,value=0,inplace=True)\n",
    "octubre.replace(to_replace='IN_SERVICE',value=1,inplace=True)"
   ]
  },
  {
   "cell_type": "code",
   "execution_count": null,
   "metadata": {},
   "outputs": [],
   "source": [
    "octubre.status.value_counts()"
   ]
  },
  {
   "cell_type": "code",
   "execution_count": null,
   "metadata": {},
   "outputs": [],
   "source": [
    "#Now that we have all the columns as numbers, we can check their correlation and decide if we can drop\n",
    "#is_installed, is_renting and is_returning"
   ]
  },
  {
   "cell_type": "code",
   "execution_count": null,
   "metadata": {},
   "outputs": [],
   "source": [
    "octubre.corr()"
   ]
  },
  {
   "cell_type": "markdown",
   "metadata": {},
   "source": [
    "We see how 'status' is very correlated with 'is installed', 'is_renting' and 'is_returning' for this reason it makes no sense to keep them all 4 and we can consider 'status' as the one that defines if the station is working or not."
   ]
  },
  {
   "cell_type": "code",
   "execution_count": null,
   "metadata": {},
   "outputs": [],
   "source": [
    "octubre.drop(columns=[\"is_installed\",\"is_renting\",\"is_returning\"],inplace=True)"
   ]
  },
  {
   "cell_type": "code",
   "execution_count": null,
   "metadata": {},
   "outputs": [],
   "source": [
    "octubre.head()"
   ]
  },
  {
   "cell_type": "code",
   "execution_count": null,
   "metadata": {},
   "outputs": [],
   "source": [
    "#We will keep 'ttl' as number of docks in the station just in case we decide to play with % in the future."
   ]
  },
  {
   "cell_type": "markdown",
   "metadata": {},
   "source": [
    "# How do we manage time?"
   ]
  },
  {
   "cell_type": "code",
   "execution_count": null,
   "metadata": {},
   "outputs": [],
   "source": [
    "#There are 8916 total different timeframes at the moment\n",
    "len(octubre.last_updated.value_counts())"
   ]
  },
  {
   "cell_type": "code",
   "execution_count": null,
   "metadata": {},
   "outputs": [],
   "source": [
    "#We are seeing the dataset contains value from September, we will delete that\n",
    "octubre.last_updated.head()"
   ]
  },
  {
   "cell_type": "code",
   "execution_count": null,
   "metadata": {
    "scrolled": true
   },
   "outputs": [],
   "source": [
    "octubre = octubre[octubre.last_updated.dt.month == 10]"
   ]
  },
  {
   "cell_type": "code",
   "execution_count": null,
   "metadata": {},
   "outputs": [],
   "source": [
    "octubre.head()"
   ]
  },
  {
   "cell_type": "code",
   "execution_count": null,
   "metadata": {},
   "outputs": [],
   "source": [
    "octubre.to_csv(\"..\\\\Dataset\\\\October_cleaned.csv\",encoding=\"utf_8\")"
   ]
  }
 ],
 "metadata": {
  "file_extension": ".py",
  "kernelspec": {
   "display_name": "Python 3",
   "language": "python",
   "name": "python3"
  },
  "language_info": {
   "codemirror_mode": {
    "name": "ipython",
    "version": 3
   },
   "file_extension": ".py",
   "mimetype": "text/x-python",
   "name": "python",
   "nbconvert_exporter": "python",
   "pygments_lexer": "ipython3",
   "version": "3.7.3"
  },
  "mimetype": "text/x-python",
  "name": "python",
  "npconvert_exporter": "python",
  "pygments_lexer": "ipython3",
  "version": 3
 },
 "nbformat": 4,
 "nbformat_minor": 2
}
