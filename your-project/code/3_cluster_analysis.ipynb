{
 "cells": [
  {
   "cell_type": "markdown",
   "metadata": {},
   "source": [
    "# Analyzing the clusters\n",
    "In the previous notebooks, we have been through the process of Data cleaning, gathering the behaviour of the stations on weekdays, adding geolocation data and finally classifying them by clusters. Now it is time to understand why the model has classified these clusters this way, and understand what do the stations of each cluster have in common."
   ]
  },
  {
   "cell_type": "code",
   "execution_count": 14,
   "metadata": {},
   "outputs": [],
   "source": [
    "#importing needed libraries\n",
    "import pandas as pd\n",
    "import plotly.graph_objs as go\n",
    "import plotly.express as px"
   ]
  },
  {
   "cell_type": "code",
   "execution_count": 4,
   "metadata": {},
   "outputs": [],
   "source": [
    "clusters = pd.read_csv(\"..\\\\Dataset\\\\clusters.csv\",encoding=\"utf_8\",decimal=',', sep=';')"
   ]
  },
  {
   "cell_type": "code",
   "execution_count": 5,
   "metadata": {},
   "outputs": [
    {
     "data": {
      "text/html": [
       "<div>\n",
       "<style scoped>\n",
       "    .dataframe tbody tr th:only-of-type {\n",
       "        vertical-align: middle;\n",
       "    }\n",
       "\n",
       "    .dataframe tbody tr th {\n",
       "        vertical-align: top;\n",
       "    }\n",
       "\n",
       "    .dataframe thead th {\n",
       "        text-align: right;\n",
       "    }\n",
       "</style>\n",
       "<table border=\"1\" class=\"dataframe\">\n",
       "  <thead>\n",
       "    <tr style=\"text-align: right;\">\n",
       "      <th></th>\n",
       "      <th>station_id</th>\n",
       "      <th>00:00</th>\n",
       "      <th>01:00</th>\n",
       "      <th>02:00</th>\n",
       "      <th>03:00</th>\n",
       "      <th>04:00</th>\n",
       "      <th>05:00</th>\n",
       "      <th>06:00</th>\n",
       "      <th>07:00</th>\n",
       "      <th>08:00</th>\n",
       "      <th>...</th>\n",
       "      <th>19:00</th>\n",
       "      <th>20:00</th>\n",
       "      <th>21:00</th>\n",
       "      <th>22:00</th>\n",
       "      <th>23:00</th>\n",
       "      <th>capacity</th>\n",
       "      <th>lat</th>\n",
       "      <th>long</th>\n",
       "      <th>DisttoCentre</th>\n",
       "      <th>labels</th>\n",
       "    </tr>\n",
       "  </thead>\n",
       "  <tbody>\n",
       "    <tr>\n",
       "      <th>0</th>\n",
       "      <td>1</td>\n",
       "      <td>23.45</td>\n",
       "      <td>23.83</td>\n",
       "      <td>23.71</td>\n",
       "      <td>23.85</td>\n",
       "      <td>23.66</td>\n",
       "      <td>20.89</td>\n",
       "      <td>11.78</td>\n",
       "      <td>4.01</td>\n",
       "      <td>5.03</td>\n",
       "      <td>...</td>\n",
       "      <td>12.70</td>\n",
       "      <td>15.79</td>\n",
       "      <td>17.61</td>\n",
       "      <td>20.16</td>\n",
       "      <td>21.96</td>\n",
       "      <td>30</td>\n",
       "      <td>41.397952</td>\n",
       "      <td>2.180042</td>\n",
       "      <td>1.47</td>\n",
       "      <td>0</td>\n",
       "    </tr>\n",
       "    <tr>\n",
       "      <th>1</th>\n",
       "      <td>2</td>\n",
       "      <td>13.52</td>\n",
       "      <td>14.10</td>\n",
       "      <td>13.80</td>\n",
       "      <td>13.48</td>\n",
       "      <td>13.40</td>\n",
       "      <td>11.88</td>\n",
       "      <td>7.34</td>\n",
       "      <td>3.51</td>\n",
       "      <td>3.19</td>\n",
       "      <td>...</td>\n",
       "      <td>7.28</td>\n",
       "      <td>8.78</td>\n",
       "      <td>10.33</td>\n",
       "      <td>12.42</td>\n",
       "      <td>12.66</td>\n",
       "      <td>27</td>\n",
       "      <td>41.395530</td>\n",
       "      <td>2.177060</td>\n",
       "      <td>1.11</td>\n",
       "      <td>4</td>\n",
       "    </tr>\n",
       "    <tr>\n",
       "      <th>2</th>\n",
       "      <td>3</td>\n",
       "      <td>16.59</td>\n",
       "      <td>16.69</td>\n",
       "      <td>16.76</td>\n",
       "      <td>16.66</td>\n",
       "      <td>16.36</td>\n",
       "      <td>16.76</td>\n",
       "      <td>14.39</td>\n",
       "      <td>7.89</td>\n",
       "      <td>4.04</td>\n",
       "      <td>...</td>\n",
       "      <td>18.42</td>\n",
       "      <td>16.54</td>\n",
       "      <td>16.12</td>\n",
       "      <td>16.38</td>\n",
       "      <td>17.25</td>\n",
       "      <td>27</td>\n",
       "      <td>41.394055</td>\n",
       "      <td>2.181299</td>\n",
       "      <td>1.22</td>\n",
       "      <td>0</td>\n",
       "    </tr>\n",
       "    <tr>\n",
       "      <th>3</th>\n",
       "      <td>4</td>\n",
       "      <td>9.78</td>\n",
       "      <td>9.74</td>\n",
       "      <td>9.94</td>\n",
       "      <td>10.39</td>\n",
       "      <td>11.53</td>\n",
       "      <td>14.07</td>\n",
       "      <td>10.06</td>\n",
       "      <td>4.90</td>\n",
       "      <td>2.04</td>\n",
       "      <td>...</td>\n",
       "      <td>13.53</td>\n",
       "      <td>11.53</td>\n",
       "      <td>9.66</td>\n",
       "      <td>9.61</td>\n",
       "      <td>10.53</td>\n",
       "      <td>21</td>\n",
       "      <td>41.393480</td>\n",
       "      <td>2.181555</td>\n",
       "      <td>1.20</td>\n",
       "      <td>4</td>\n",
       "    </tr>\n",
       "    <tr>\n",
       "      <th>4</th>\n",
       "      <td>5</td>\n",
       "      <td>24.42</td>\n",
       "      <td>24.39</td>\n",
       "      <td>24.24</td>\n",
       "      <td>23.87</td>\n",
       "      <td>24.26</td>\n",
       "      <td>23.06</td>\n",
       "      <td>18.66</td>\n",
       "      <td>9.33</td>\n",
       "      <td>8.24</td>\n",
       "      <td>...</td>\n",
       "      <td>27.05</td>\n",
       "      <td>27.04</td>\n",
       "      <td>27.42</td>\n",
       "      <td>26.78</td>\n",
       "      <td>24.82</td>\n",
       "      <td>39</td>\n",
       "      <td>41.391075</td>\n",
       "      <td>2.180223</td>\n",
       "      <td>0.96</td>\n",
       "      <td>0</td>\n",
       "    </tr>\n",
       "  </tbody>\n",
       "</table>\n",
       "<p>5 rows × 30 columns</p>\n",
       "</div>"
      ],
      "text/plain": [
       "   station_id  00:00  01:00  02:00  03:00  04:00  05:00  06:00  07:00  08:00  \\\n",
       "0           1  23.45  23.83  23.71  23.85  23.66  20.89  11.78   4.01   5.03   \n",
       "1           2  13.52  14.10  13.80  13.48  13.40  11.88   7.34   3.51   3.19   \n",
       "2           3  16.59  16.69  16.76  16.66  16.36  16.76  14.39   7.89   4.04   \n",
       "3           4   9.78   9.74   9.94  10.39  11.53  14.07  10.06   4.90   2.04   \n",
       "4           5  24.42  24.39  24.24  23.87  24.26  23.06  18.66   9.33   8.24   \n",
       "\n",
       "   ...  19:00  20:00  21:00  22:00  23:00  capacity        lat      long  \\\n",
       "0  ...  12.70  15.79  17.61  20.16  21.96        30  41.397952  2.180042   \n",
       "1  ...   7.28   8.78  10.33  12.42  12.66        27  41.395530  2.177060   \n",
       "2  ...  18.42  16.54  16.12  16.38  17.25        27  41.394055  2.181299   \n",
       "3  ...  13.53  11.53   9.66   9.61  10.53        21  41.393480  2.181555   \n",
       "4  ...  27.05  27.04  27.42  26.78  24.82        39  41.391075  2.180223   \n",
       "\n",
       "   DisttoCentre  labels  \n",
       "0          1.47       0  \n",
       "1          1.11       4  \n",
       "2          1.22       0  \n",
       "3          1.20       4  \n",
       "4          0.96       0  \n",
       "\n",
       "[5 rows x 30 columns]"
      ]
     },
     "execution_count": 5,
     "metadata": {},
     "output_type": "execute_result"
    }
   ],
   "source": [
    "clusters.head()"
   ]
  },
  {
   "cell_type": "code",
   "execution_count": 6,
   "metadata": {},
   "outputs": [
    {
     "data": {
      "text/plain": [
       "1    117\n",
       "4     88\n",
       "2     69\n",
       "0     69\n",
       "3     67\n",
       "Name: labels, dtype: int64"
      ]
     },
     "execution_count": 6,
     "metadata": {},
     "output_type": "execute_result"
    }
   ],
   "source": [
    "clusters.labels.value_counts()"
   ]
  },
  {
   "cell_type": "markdown",
   "metadata": {},
   "source": [
    "There are 5 different clusters, where 4 of them have similar values (67-88) and one has 117 stations. Let's try to understand one by one what do they have in common."
   ]
  },
  {
   "cell_type": "markdown",
   "metadata": {},
   "source": [
    "# Cluster 0\n",
    "#### Summary extracted after seeing the cells below:\n",
    "69 stations\n",
    "Distance to the city centre is not rellevant [Between 0,6km to 5,69km]"
   ]
  },
  {
   "cell_type": "code",
   "execution_count": 11,
   "metadata": {},
   "outputs": [
    {
     "data": {
      "text/html": [
       "<div>\n",
       "<style scoped>\n",
       "    .dataframe tbody tr th:only-of-type {\n",
       "        vertical-align: middle;\n",
       "    }\n",
       "\n",
       "    .dataframe tbody tr th {\n",
       "        vertical-align: top;\n",
       "    }\n",
       "\n",
       "    .dataframe thead th {\n",
       "        text-align: right;\n",
       "    }\n",
       "</style>\n",
       "<table border=\"1\" class=\"dataframe\">\n",
       "  <thead>\n",
       "    <tr style=\"text-align: right;\">\n",
       "      <th></th>\n",
       "      <th>station_id</th>\n",
       "      <th>00:00</th>\n",
       "      <th>01:00</th>\n",
       "      <th>02:00</th>\n",
       "      <th>03:00</th>\n",
       "      <th>04:00</th>\n",
       "      <th>05:00</th>\n",
       "      <th>06:00</th>\n",
       "      <th>07:00</th>\n",
       "      <th>08:00</th>\n",
       "      <th>...</th>\n",
       "      <th>19:00</th>\n",
       "      <th>20:00</th>\n",
       "      <th>21:00</th>\n",
       "      <th>22:00</th>\n",
       "      <th>23:00</th>\n",
       "      <th>capacity</th>\n",
       "      <th>lat</th>\n",
       "      <th>long</th>\n",
       "      <th>DisttoCentre</th>\n",
       "      <th>labels</th>\n",
       "    </tr>\n",
       "  </thead>\n",
       "  <tbody>\n",
       "    <tr>\n",
       "      <th>count</th>\n",
       "      <td>69.000000</td>\n",
       "      <td>69.000000</td>\n",
       "      <td>69.000000</td>\n",
       "      <td>69.000000</td>\n",
       "      <td>69.000000</td>\n",
       "      <td>69.000000</td>\n",
       "      <td>69.000000</td>\n",
       "      <td>69.000000</td>\n",
       "      <td>69.000000</td>\n",
       "      <td>69.000000</td>\n",
       "      <td>...</td>\n",
       "      <td>69.000000</td>\n",
       "      <td>69.000000</td>\n",
       "      <td>69.000000</td>\n",
       "      <td>69.000000</td>\n",
       "      <td>69.000000</td>\n",
       "      <td>69.000000</td>\n",
       "      <td>69.000000</td>\n",
       "      <td>69.000000</td>\n",
       "      <td>69.000000</td>\n",
       "      <td>69.0</td>\n",
       "    </tr>\n",
       "    <tr>\n",
       "      <th>mean</th>\n",
       "      <td>228.913043</td>\n",
       "      <td>22.898551</td>\n",
       "      <td>22.892319</td>\n",
       "      <td>22.801014</td>\n",
       "      <td>22.540580</td>\n",
       "      <td>21.854348</td>\n",
       "      <td>18.770725</td>\n",
       "      <td>12.166522</td>\n",
       "      <td>7.243913</td>\n",
       "      <td>6.610290</td>\n",
       "      <td>...</td>\n",
       "      <td>20.876087</td>\n",
       "      <td>21.391159</td>\n",
       "      <td>21.958261</td>\n",
       "      <td>22.631739</td>\n",
       "      <td>23.234928</td>\n",
       "      <td>27.840580</td>\n",
       "      <td>41.397026</td>\n",
       "      <td>2.177089</td>\n",
       "      <td>2.752609</td>\n",
       "      <td>0.0</td>\n",
       "    </tr>\n",
       "    <tr>\n",
       "      <th>std</th>\n",
       "      <td>125.204508</td>\n",
       "      <td>3.206499</td>\n",
       "      <td>3.260944</td>\n",
       "      <td>3.213845</td>\n",
       "      <td>3.363268</td>\n",
       "      <td>3.539526</td>\n",
       "      <td>4.002057</td>\n",
       "      <td>5.239381</td>\n",
       "      <td>5.274747</td>\n",
       "      <td>4.958315</td>\n",
       "      <td>...</td>\n",
       "      <td>3.639608</td>\n",
       "      <td>3.603538</td>\n",
       "      <td>3.472487</td>\n",
       "      <td>3.346404</td>\n",
       "      <td>3.220785</td>\n",
       "      <td>3.856329</td>\n",
       "      <td>0.020599</td>\n",
       "      <td>0.020316</td>\n",
       "      <td>1.429292</td>\n",
       "      <td>0.0</td>\n",
       "    </tr>\n",
       "    <tr>\n",
       "      <th>min</th>\n",
       "      <td>1.000000</td>\n",
       "      <td>16.430000</td>\n",
       "      <td>15.660000</td>\n",
       "      <td>15.580000</td>\n",
       "      <td>14.490000</td>\n",
       "      <td>11.790000</td>\n",
       "      <td>5.450000</td>\n",
       "      <td>1.190000</td>\n",
       "      <td>0.760000</td>\n",
       "      <td>1.130000</td>\n",
       "      <td>...</td>\n",
       "      <td>12.700000</td>\n",
       "      <td>14.960000</td>\n",
       "      <td>14.930000</td>\n",
       "      <td>15.540000</td>\n",
       "      <td>16.830000</td>\n",
       "      <td>19.000000</td>\n",
       "      <td>41.360654</td>\n",
       "      <td>2.129847</td>\n",
       "      <td>0.620000</td>\n",
       "      <td>0.0</td>\n",
       "    </tr>\n",
       "    <tr>\n",
       "      <th>25%</th>\n",
       "      <td>132.000000</td>\n",
       "      <td>21.000000</td>\n",
       "      <td>21.140000</td>\n",
       "      <td>21.100000</td>\n",
       "      <td>21.060000</td>\n",
       "      <td>20.180000</td>\n",
       "      <td>16.120000</td>\n",
       "      <td>8.240000</td>\n",
       "      <td>3.190000</td>\n",
       "      <td>2.700000</td>\n",
       "      <td>...</td>\n",
       "      <td>18.290000</td>\n",
       "      <td>18.510000</td>\n",
       "      <td>19.570000</td>\n",
       "      <td>20.410000</td>\n",
       "      <td>21.280000</td>\n",
       "      <td>27.000000</td>\n",
       "      <td>41.377635</td>\n",
       "      <td>2.163404</td>\n",
       "      <td>1.430000</td>\n",
       "      <td>0.0</td>\n",
       "    </tr>\n",
       "    <tr>\n",
       "      <th>50%</th>\n",
       "      <td>238.000000</td>\n",
       "      <td>23.450000</td>\n",
       "      <td>23.610000</td>\n",
       "      <td>23.130000</td>\n",
       "      <td>23.030000</td>\n",
       "      <td>22.510000</td>\n",
       "      <td>19.230000</td>\n",
       "      <td>11.060000</td>\n",
       "      <td>5.440000</td>\n",
       "      <td>5.060000</td>\n",
       "      <td>...</td>\n",
       "      <td>21.120000</td>\n",
       "      <td>22.040000</td>\n",
       "      <td>22.480000</td>\n",
       "      <td>22.770000</td>\n",
       "      <td>23.730000</td>\n",
       "      <td>27.000000</td>\n",
       "      <td>41.396623</td>\n",
       "      <td>2.181299</td>\n",
       "      <td>2.870000</td>\n",
       "      <td>0.0</td>\n",
       "    </tr>\n",
       "    <tr>\n",
       "      <th>75%</th>\n",
       "      <td>346.000000</td>\n",
       "      <td>24.780000</td>\n",
       "      <td>24.790000</td>\n",
       "      <td>24.880000</td>\n",
       "      <td>24.660000</td>\n",
       "      <td>24.120000</td>\n",
       "      <td>21.840000</td>\n",
       "      <td>16.820000</td>\n",
       "      <td>11.730000</td>\n",
       "      <td>9.140000</td>\n",
       "      <td>...</td>\n",
       "      <td>23.620000</td>\n",
       "      <td>23.980000</td>\n",
       "      <td>24.170000</td>\n",
       "      <td>24.900000</td>\n",
       "      <td>24.940000</td>\n",
       "      <td>30.000000</td>\n",
       "      <td>41.416018</td>\n",
       "      <td>2.191150</td>\n",
       "      <td>3.850000</td>\n",
       "      <td>0.0</td>\n",
       "    </tr>\n",
       "    <tr>\n",
       "      <th>max</th>\n",
       "      <td>427.000000</td>\n",
       "      <td>32.210000</td>\n",
       "      <td>31.490000</td>\n",
       "      <td>29.660000</td>\n",
       "      <td>29.070000</td>\n",
       "      <td>28.130000</td>\n",
       "      <td>25.340000</td>\n",
       "      <td>23.580000</td>\n",
       "      <td>23.540000</td>\n",
       "      <td>23.280000</td>\n",
       "      <td>...</td>\n",
       "      <td>29.460000</td>\n",
       "      <td>31.900000</td>\n",
       "      <td>32.650000</td>\n",
       "      <td>33.410000</td>\n",
       "      <td>33.030000</td>\n",
       "      <td>39.000000</td>\n",
       "      <td>41.436080</td>\n",
       "      <td>2.212658</td>\n",
       "      <td>5.690000</td>\n",
       "      <td>0.0</td>\n",
       "    </tr>\n",
       "  </tbody>\n",
       "</table>\n",
       "<p>8 rows × 30 columns</p>\n",
       "</div>"
      ],
      "text/plain": [
       "       station_id      00:00      01:00      02:00      03:00      04:00  \\\n",
       "count   69.000000  69.000000  69.000000  69.000000  69.000000  69.000000   \n",
       "mean   228.913043  22.898551  22.892319  22.801014  22.540580  21.854348   \n",
       "std    125.204508   3.206499   3.260944   3.213845   3.363268   3.539526   \n",
       "min      1.000000  16.430000  15.660000  15.580000  14.490000  11.790000   \n",
       "25%    132.000000  21.000000  21.140000  21.100000  21.060000  20.180000   \n",
       "50%    238.000000  23.450000  23.610000  23.130000  23.030000  22.510000   \n",
       "75%    346.000000  24.780000  24.790000  24.880000  24.660000  24.120000   \n",
       "max    427.000000  32.210000  31.490000  29.660000  29.070000  28.130000   \n",
       "\n",
       "           05:00      06:00      07:00      08:00  ...      19:00      20:00  \\\n",
       "count  69.000000  69.000000  69.000000  69.000000  ...  69.000000  69.000000   \n",
       "mean   18.770725  12.166522   7.243913   6.610290  ...  20.876087  21.391159   \n",
       "std     4.002057   5.239381   5.274747   4.958315  ...   3.639608   3.603538   \n",
       "min     5.450000   1.190000   0.760000   1.130000  ...  12.700000  14.960000   \n",
       "25%    16.120000   8.240000   3.190000   2.700000  ...  18.290000  18.510000   \n",
       "50%    19.230000  11.060000   5.440000   5.060000  ...  21.120000  22.040000   \n",
       "75%    21.840000  16.820000  11.730000   9.140000  ...  23.620000  23.980000   \n",
       "max    25.340000  23.580000  23.540000  23.280000  ...  29.460000  31.900000   \n",
       "\n",
       "           21:00      22:00      23:00   capacity        lat       long  \\\n",
       "count  69.000000  69.000000  69.000000  69.000000  69.000000  69.000000   \n",
       "mean   21.958261  22.631739  23.234928  27.840580  41.397026   2.177089   \n",
       "std     3.472487   3.346404   3.220785   3.856329   0.020599   0.020316   \n",
       "min    14.930000  15.540000  16.830000  19.000000  41.360654   2.129847   \n",
       "25%    19.570000  20.410000  21.280000  27.000000  41.377635   2.163404   \n",
       "50%    22.480000  22.770000  23.730000  27.000000  41.396623   2.181299   \n",
       "75%    24.170000  24.900000  24.940000  30.000000  41.416018   2.191150   \n",
       "max    32.650000  33.410000  33.030000  39.000000  41.436080   2.212658   \n",
       "\n",
       "       DisttoCentre  labels  \n",
       "count     69.000000    69.0  \n",
       "mean       2.752609     0.0  \n",
       "std        1.429292     0.0  \n",
       "min        0.620000     0.0  \n",
       "25%        1.430000     0.0  \n",
       "50%        2.870000     0.0  \n",
       "75%        3.850000     0.0  \n",
       "max        5.690000     0.0  \n",
       "\n",
       "[8 rows x 30 columns]"
      ]
     },
     "execution_count": 11,
     "metadata": {},
     "output_type": "execute_result"
    }
   ],
   "source": [
    "clusters[clusters.labels == 0].describe()"
   ]
  },
  {
   "cell_type": "code",
   "execution_count": 13,
   "metadata": {},
   "outputs": [],
   "source": [
    "clu_means = clusters.groupby('labels').mean()"
   ]
  },
  {
   "cell_type": "code",
   "execution_count": 16,
   "metadata": {},
   "outputs": [],
   "source": [
    "clu_means.drop(columns=['station_id','capacity','lat','long','DisttoCentre'],inplace=True)"
   ]
  },
  {
   "cell_type": "code",
   "execution_count": 19,
   "metadata": {},
   "outputs": [],
   "source": [
    "clu_means = clu_means.transpose()"
   ]
  },
  {
   "cell_type": "code",
   "execution_count": 20,
   "metadata": {},
   "outputs": [
    {
     "data": {
      "text/plain": [
       "Int64Index([0, 1, 2, 3, 4], dtype='int64', name='labels')"
      ]
     },
     "execution_count": 20,
     "metadata": {},
     "output_type": "execute_result"
    }
   ],
   "source": [
    "clu_means.columns"
   ]
  },
  {
   "cell_type": "code",
   "execution_count": 43,
   "metadata": {},
   "outputs": [
    {
     "data": {
      "application/vnd.plotly.v1+json": {
       "config": {
        "plotlyServerURL": "https://plot.ly"
       },
       "data": [
        {
         "line": {
          "color": "rgb(51,96,140)",
          "width": 6
         },
         "mode": "lines",
         "name": "Cluster 0",
         "type": "scatter",
         "x": [
          "00:00",
          "01:00",
          "02:00",
          "03:00",
          "04:00",
          "05:00",
          "06:00",
          "07:00",
          "08:00",
          "09:00",
          "10:00",
          "11:00",
          "12:00",
          "13:00",
          "14:00",
          "15:00",
          "16:00",
          "17:00",
          "18:00",
          "19:00",
          "20:00",
          "21:00",
          "22:00",
          "23:00"
         ],
         "y": [
          22.898550724637676,
          22.89231884057972,
          22.80101449275362,
          22.54057971014493,
          21.854347826086954,
          18.77072463768116,
          12.166521739130433,
          7.243913043478262,
          6.610289855072466,
          6.9195652173913045,
          7.57159420289855,
          8.894927536231886,
          11.389999999999999,
          13.40217391304348,
          14.610144927536236,
          15.561449275362316,
          17.30724637681159,
          18.75695652173913,
          19.939710144927535,
          20.87608695652173,
          21.391159420289846,
          21.95826086956522,
          22.631739130434788,
          23.234927536231886
         ]
        },
        {
         "line": {
          "color": "rgb(195,106,156)",
          "width": 6
         },
         "mode": "lines",
         "name": "Cluster 1",
         "type": "scatter",
         "x": [
          "00:00",
          "01:00",
          "02:00",
          "03:00",
          "04:00",
          "05:00",
          "06:00",
          "07:00",
          "08:00",
          "09:00",
          "10:00",
          "11:00",
          "12:00",
          "13:00",
          "14:00",
          "15:00",
          "16:00",
          "17:00",
          "18:00",
          "19:00",
          "20:00",
          "21:00",
          "22:00",
          "23:00"
         ],
         "y": [
          3.0014529914529917,
          3.4948717948717936,
          4.058119658119656,
          4.810940170940173,
          5.201709401709404,
          4.688547008547009,
          3.845299145299145,
          3.39008547008547,
          3.59042735042735,
          3.551452991452991,
          3.37905982905983,
          3.181538461538461,
          2.4389743589743595,
          1.902222222222222,
          1.9652136752136757,
          2.046581196581197,
          1.9781196581196592,
          2.1437606837606835,
          2.4391452991452995,
          2.596324786324785,
          2.737606837606838,
          2.559829059829059,
          2.356923076923078,
          2.502564102564102
         ]
        },
        {
         "line": {
          "color": "rgb(246,186,87)",
          "width": 6
         },
         "mode": "lines",
         "name": "Cluster 2",
         "type": "scatter",
         "x": [
          "00:00",
          "01:00",
          "02:00",
          "03:00",
          "04:00",
          "05:00",
          "06:00",
          "07:00",
          "08:00",
          "09:00",
          "10:00",
          "11:00",
          "12:00",
          "13:00",
          "14:00",
          "15:00",
          "16:00",
          "17:00",
          "18:00",
          "19:00",
          "20:00",
          "21:00",
          "22:00",
          "23:00"
         ],
         "y": [
          4.521449275362318,
          4.3136231884057965,
          4.062608695652174,
          3.978985507246377,
          4.355072463768116,
          7.290434782608696,
          15.197101449275364,
          21.17057971014494,
          22.744347826086955,
          22.152898550724636,
          20.752318840579715,
          18.22188405797101,
          15.432753623188407,
          14.064492753623192,
          12.979855072463765,
          10.541304347826085,
          7.182028985507247,
          5.670869565217393,
          5.004202898550724,
          4.621304347826085,
          4.857246376811593,
          4.875797101449276,
          4.631304347826085,
          4.502173913043476
         ]
        },
        {
         "line": {
          "color": "rgb(228,96,72)",
          "width": 6
         },
         "mode": "lines",
         "name": "Cluster 3",
         "type": "scatter",
         "x": [
          "00:00",
          "01:00",
          "02:00",
          "03:00",
          "04:00",
          "05:00",
          "06:00",
          "07:00",
          "08:00",
          "09:00",
          "10:00",
          "11:00",
          "12:00",
          "13:00",
          "14:00",
          "15:00",
          "16:00",
          "17:00",
          "18:00",
          "19:00",
          "20:00",
          "21:00",
          "22:00",
          "23:00"
         ],
         "y": [
          15.260746268656723,
          13.972686567164182,
          12.61179104477612,
          11.372388059701494,
          10.521343283582091,
          9.970895522388062,
          11.412089552238807,
          15.570447761194027,
          18.408208955223884,
          19.25895522388059,
          19.212985074626864,
          18.84925373134328,
          18.27910447761194,
          18.40671641791044,
          18.649253731343286,
          18.29686567164178,
          17.332388059701493,
          17.08298507462687,
          17.41194029850746,
          17.774776119402983,
          18.274776119402983,
          18.315223880597017,
          17.775074626865667,
          16.89597014925373
         ]
        },
        {
         "line": {
          "color": "rgb(184,24,64)",
          "width": 6
         },
         "mode": "lines",
         "name": "Cluster 4",
         "type": "scatter",
         "x": [
          "00:00",
          "01:00",
          "02:00",
          "03:00",
          "04:00",
          "05:00",
          "06:00",
          "07:00",
          "08:00",
          "09:00",
          "10:00",
          "11:00",
          "12:00",
          "13:00",
          "14:00",
          "15:00",
          "16:00",
          "17:00",
          "18:00",
          "19:00",
          "20:00",
          "21:00",
          "22:00",
          "23:00"
         ],
         "y": [
          13.034204545454545,
          13.932045454545454,
          14.523068181818184,
          14.736590909090916,
          14.33386363636363,
          11.180454545454545,
          6.26681818181818,
          4.014659090909092,
          3.8182954545454546,
          3.949886363636364,
          4.282613636363636,
          4.781477272727273,
          4.952840909090909,
          5.079545454545457,
          5.331704545454545,
          5.616931818181819,
          6.034431818181819,
          6.450227272727273,
          7.0715909090909115,
          8.055795454545448,
          9.09227272727273,
          9.59147727272727,
          10.422613636363637,
          11.600909090909095
         ]
        },
        {
         "line": {
          "color": "rgb(0,0,0)",
          "width": 3
         },
         "mode": "lines",
         "name": "Morning rush hour start",
         "type": "scatter",
         "x": [
          "06:00",
          "06:00"
         ],
         "y": [
          0,
          23
         ]
        },
        {
         "line": {
          "color": "rgb(0,0,0)",
          "width": 3
         },
         "mode": "lines",
         "name": "Morning rush hour finish",
         "type": "scatter",
         "x": [
          "09:00",
          "09:00"
         ],
         "y": [
          0,
          23
         ]
        },
        {
         "line": {
          "color": "rgb(0,0,0)",
          "width": 3
         },
         "mode": "lines",
         "name": "Evening rush hour",
         "type": "scatter",
         "x": [
          "17:00",
          "17:00"
         ],
         "y": [
          0,
          23
         ]
        }
       ],
       "layout": {
        "template": {
         "data": {
          "bar": [
           {
            "error_x": {
             "color": "#2a3f5f"
            },
            "error_y": {
             "color": "#2a3f5f"
            },
            "marker": {
             "line": {
              "color": "#E5ECF6",
              "width": 0.5
             }
            },
            "type": "bar"
           }
          ],
          "barpolar": [
           {
            "marker": {
             "line": {
              "color": "#E5ECF6",
              "width": 0.5
             }
            },
            "type": "barpolar"
           }
          ],
          "carpet": [
           {
            "aaxis": {
             "endlinecolor": "#2a3f5f",
             "gridcolor": "white",
             "linecolor": "white",
             "minorgridcolor": "white",
             "startlinecolor": "#2a3f5f"
            },
            "baxis": {
             "endlinecolor": "#2a3f5f",
             "gridcolor": "white",
             "linecolor": "white",
             "minorgridcolor": "white",
             "startlinecolor": "#2a3f5f"
            },
            "type": "carpet"
           }
          ],
          "choropleth": [
           {
            "colorbar": {
             "outlinewidth": 0,
             "ticks": ""
            },
            "type": "choropleth"
           }
          ],
          "contour": [
           {
            "colorbar": {
             "outlinewidth": 0,
             "ticks": ""
            },
            "colorscale": [
             [
              0,
              "#0d0887"
             ],
             [
              0.1111111111111111,
              "#46039f"
             ],
             [
              0.2222222222222222,
              "#7201a8"
             ],
             [
              0.3333333333333333,
              "#9c179e"
             ],
             [
              0.4444444444444444,
              "#bd3786"
             ],
             [
              0.5555555555555556,
              "#d8576b"
             ],
             [
              0.6666666666666666,
              "#ed7953"
             ],
             [
              0.7777777777777778,
              "#fb9f3a"
             ],
             [
              0.8888888888888888,
              "#fdca26"
             ],
             [
              1,
              "#f0f921"
             ]
            ],
            "type": "contour"
           }
          ],
          "contourcarpet": [
           {
            "colorbar": {
             "outlinewidth": 0,
             "ticks": ""
            },
            "type": "contourcarpet"
           }
          ],
          "heatmap": [
           {
            "colorbar": {
             "outlinewidth": 0,
             "ticks": ""
            },
            "colorscale": [
             [
              0,
              "#0d0887"
             ],
             [
              0.1111111111111111,
              "#46039f"
             ],
             [
              0.2222222222222222,
              "#7201a8"
             ],
             [
              0.3333333333333333,
              "#9c179e"
             ],
             [
              0.4444444444444444,
              "#bd3786"
             ],
             [
              0.5555555555555556,
              "#d8576b"
             ],
             [
              0.6666666666666666,
              "#ed7953"
             ],
             [
              0.7777777777777778,
              "#fb9f3a"
             ],
             [
              0.8888888888888888,
              "#fdca26"
             ],
             [
              1,
              "#f0f921"
             ]
            ],
            "type": "heatmap"
           }
          ],
          "heatmapgl": [
           {
            "colorbar": {
             "outlinewidth": 0,
             "ticks": ""
            },
            "colorscale": [
             [
              0,
              "#0d0887"
             ],
             [
              0.1111111111111111,
              "#46039f"
             ],
             [
              0.2222222222222222,
              "#7201a8"
             ],
             [
              0.3333333333333333,
              "#9c179e"
             ],
             [
              0.4444444444444444,
              "#bd3786"
             ],
             [
              0.5555555555555556,
              "#d8576b"
             ],
             [
              0.6666666666666666,
              "#ed7953"
             ],
             [
              0.7777777777777778,
              "#fb9f3a"
             ],
             [
              0.8888888888888888,
              "#fdca26"
             ],
             [
              1,
              "#f0f921"
             ]
            ],
            "type": "heatmapgl"
           }
          ],
          "histogram": [
           {
            "marker": {
             "colorbar": {
              "outlinewidth": 0,
              "ticks": ""
             }
            },
            "type": "histogram"
           }
          ],
          "histogram2d": [
           {
            "colorbar": {
             "outlinewidth": 0,
             "ticks": ""
            },
            "colorscale": [
             [
              0,
              "#0d0887"
             ],
             [
              0.1111111111111111,
              "#46039f"
             ],
             [
              0.2222222222222222,
              "#7201a8"
             ],
             [
              0.3333333333333333,
              "#9c179e"
             ],
             [
              0.4444444444444444,
              "#bd3786"
             ],
             [
              0.5555555555555556,
              "#d8576b"
             ],
             [
              0.6666666666666666,
              "#ed7953"
             ],
             [
              0.7777777777777778,
              "#fb9f3a"
             ],
             [
              0.8888888888888888,
              "#fdca26"
             ],
             [
              1,
              "#f0f921"
             ]
            ],
            "type": "histogram2d"
           }
          ],
          "histogram2dcontour": [
           {
            "colorbar": {
             "outlinewidth": 0,
             "ticks": ""
            },
            "colorscale": [
             [
              0,
              "#0d0887"
             ],
             [
              0.1111111111111111,
              "#46039f"
             ],
             [
              0.2222222222222222,
              "#7201a8"
             ],
             [
              0.3333333333333333,
              "#9c179e"
             ],
             [
              0.4444444444444444,
              "#bd3786"
             ],
             [
              0.5555555555555556,
              "#d8576b"
             ],
             [
              0.6666666666666666,
              "#ed7953"
             ],
             [
              0.7777777777777778,
              "#fb9f3a"
             ],
             [
              0.8888888888888888,
              "#fdca26"
             ],
             [
              1,
              "#f0f921"
             ]
            ],
            "type": "histogram2dcontour"
           }
          ],
          "mesh3d": [
           {
            "colorbar": {
             "outlinewidth": 0,
             "ticks": ""
            },
            "type": "mesh3d"
           }
          ],
          "parcoords": [
           {
            "line": {
             "colorbar": {
              "outlinewidth": 0,
              "ticks": ""
             }
            },
            "type": "parcoords"
           }
          ],
          "pie": [
           {
            "automargin": true,
            "type": "pie"
           }
          ],
          "scatter": [
           {
            "marker": {
             "colorbar": {
              "outlinewidth": 0,
              "ticks": ""
             }
            },
            "type": "scatter"
           }
          ],
          "scatter3d": [
           {
            "line": {
             "colorbar": {
              "outlinewidth": 0,
              "ticks": ""
             }
            },
            "marker": {
             "colorbar": {
              "outlinewidth": 0,
              "ticks": ""
             }
            },
            "type": "scatter3d"
           }
          ],
          "scattercarpet": [
           {
            "marker": {
             "colorbar": {
              "outlinewidth": 0,
              "ticks": ""
             }
            },
            "type": "scattercarpet"
           }
          ],
          "scattergeo": [
           {
            "marker": {
             "colorbar": {
              "outlinewidth": 0,
              "ticks": ""
             }
            },
            "type": "scattergeo"
           }
          ],
          "scattergl": [
           {
            "marker": {
             "colorbar": {
              "outlinewidth": 0,
              "ticks": ""
             }
            },
            "type": "scattergl"
           }
          ],
          "scattermapbox": [
           {
            "marker": {
             "colorbar": {
              "outlinewidth": 0,
              "ticks": ""
             }
            },
            "type": "scattermapbox"
           }
          ],
          "scatterpolar": [
           {
            "marker": {
             "colorbar": {
              "outlinewidth": 0,
              "ticks": ""
             }
            },
            "type": "scatterpolar"
           }
          ],
          "scatterpolargl": [
           {
            "marker": {
             "colorbar": {
              "outlinewidth": 0,
              "ticks": ""
             }
            },
            "type": "scatterpolargl"
           }
          ],
          "scatterternary": [
           {
            "marker": {
             "colorbar": {
              "outlinewidth": 0,
              "ticks": ""
             }
            },
            "type": "scatterternary"
           }
          ],
          "surface": [
           {
            "colorbar": {
             "outlinewidth": 0,
             "ticks": ""
            },
            "colorscale": [
             [
              0,
              "#0d0887"
             ],
             [
              0.1111111111111111,
              "#46039f"
             ],
             [
              0.2222222222222222,
              "#7201a8"
             ],
             [
              0.3333333333333333,
              "#9c179e"
             ],
             [
              0.4444444444444444,
              "#bd3786"
             ],
             [
              0.5555555555555556,
              "#d8576b"
             ],
             [
              0.6666666666666666,
              "#ed7953"
             ],
             [
              0.7777777777777778,
              "#fb9f3a"
             ],
             [
              0.8888888888888888,
              "#fdca26"
             ],
             [
              1,
              "#f0f921"
             ]
            ],
            "type": "surface"
           }
          ],
          "table": [
           {
            "cells": {
             "fill": {
              "color": "#EBF0F8"
             },
             "line": {
              "color": "white"
             }
            },
            "header": {
             "fill": {
              "color": "#C8D4E3"
             },
             "line": {
              "color": "white"
             }
            },
            "type": "table"
           }
          ]
         },
         "layout": {
          "annotationdefaults": {
           "arrowcolor": "#2a3f5f",
           "arrowhead": 0,
           "arrowwidth": 1
          },
          "coloraxis": {
           "colorbar": {
            "outlinewidth": 0,
            "ticks": ""
           }
          },
          "colorscale": {
           "diverging": [
            [
             0,
             "#8e0152"
            ],
            [
             0.1,
             "#c51b7d"
            ],
            [
             0.2,
             "#de77ae"
            ],
            [
             0.3,
             "#f1b6da"
            ],
            [
             0.4,
             "#fde0ef"
            ],
            [
             0.5,
             "#f7f7f7"
            ],
            [
             0.6,
             "#e6f5d0"
            ],
            [
             0.7,
             "#b8e186"
            ],
            [
             0.8,
             "#7fbc41"
            ],
            [
             0.9,
             "#4d9221"
            ],
            [
             1,
             "#276419"
            ]
           ],
           "sequential": [
            [
             0,
             "#0d0887"
            ],
            [
             0.1111111111111111,
             "#46039f"
            ],
            [
             0.2222222222222222,
             "#7201a8"
            ],
            [
             0.3333333333333333,
             "#9c179e"
            ],
            [
             0.4444444444444444,
             "#bd3786"
            ],
            [
             0.5555555555555556,
             "#d8576b"
            ],
            [
             0.6666666666666666,
             "#ed7953"
            ],
            [
             0.7777777777777778,
             "#fb9f3a"
            ],
            [
             0.8888888888888888,
             "#fdca26"
            ],
            [
             1,
             "#f0f921"
            ]
           ],
           "sequentialminus": [
            [
             0,
             "#0d0887"
            ],
            [
             0.1111111111111111,
             "#46039f"
            ],
            [
             0.2222222222222222,
             "#7201a8"
            ],
            [
             0.3333333333333333,
             "#9c179e"
            ],
            [
             0.4444444444444444,
             "#bd3786"
            ],
            [
             0.5555555555555556,
             "#d8576b"
            ],
            [
             0.6666666666666666,
             "#ed7953"
            ],
            [
             0.7777777777777778,
             "#fb9f3a"
            ],
            [
             0.8888888888888888,
             "#fdca26"
            ],
            [
             1,
             "#f0f921"
            ]
           ]
          },
          "colorway": [
           "#636efa",
           "#EF553B",
           "#00cc96",
           "#ab63fa",
           "#FFA15A",
           "#19d3f3",
           "#FF6692",
           "#B6E880",
           "#FF97FF",
           "#FECB52"
          ],
          "font": {
           "color": "#2a3f5f"
          },
          "geo": {
           "bgcolor": "white",
           "lakecolor": "white",
           "landcolor": "#E5ECF6",
           "showlakes": true,
           "showland": true,
           "subunitcolor": "white"
          },
          "hoverlabel": {
           "align": "left"
          },
          "hovermode": "closest",
          "mapbox": {
           "style": "light"
          },
          "paper_bgcolor": "white",
          "plot_bgcolor": "#E5ECF6",
          "polar": {
           "angularaxis": {
            "gridcolor": "white",
            "linecolor": "white",
            "ticks": ""
           },
           "bgcolor": "#E5ECF6",
           "radialaxis": {
            "gridcolor": "white",
            "linecolor": "white",
            "ticks": ""
           }
          },
          "scene": {
           "xaxis": {
            "backgroundcolor": "#E5ECF6",
            "gridcolor": "white",
            "gridwidth": 2,
            "linecolor": "white",
            "showbackground": true,
            "ticks": "",
            "zerolinecolor": "white"
           },
           "yaxis": {
            "backgroundcolor": "#E5ECF6",
            "gridcolor": "white",
            "gridwidth": 2,
            "linecolor": "white",
            "showbackground": true,
            "ticks": "",
            "zerolinecolor": "white"
           },
           "zaxis": {
            "backgroundcolor": "#E5ECF6",
            "gridcolor": "white",
            "gridwidth": 2,
            "linecolor": "white",
            "showbackground": true,
            "ticks": "",
            "zerolinecolor": "white"
           }
          },
          "shapedefaults": {
           "line": {
            "color": "#2a3f5f"
           }
          },
          "ternary": {
           "aaxis": {
            "gridcolor": "white",
            "linecolor": "white",
            "ticks": ""
           },
           "baxis": {
            "gridcolor": "white",
            "linecolor": "white",
            "ticks": ""
           },
           "bgcolor": "#E5ECF6",
           "caxis": {
            "gridcolor": "white",
            "linecolor": "white",
            "ticks": ""
           }
          },
          "title": {
           "x": 0.05
          },
          "xaxis": {
           "automargin": true,
           "gridcolor": "white",
           "linecolor": "white",
           "ticks": "",
           "title": {
            "standoff": 15
           },
           "zerolinecolor": "white",
           "zerolinewidth": 2
          },
          "yaxis": {
           "automargin": true,
           "gridcolor": "white",
           "linecolor": "white",
           "ticks": "",
           "title": {
            "standoff": 15
           },
           "zerolinecolor": "white",
           "zerolinewidth": 2
          }
         }
        },
        "title": {
         "text": "Clusters Workdays hourly behaviour"
        },
        "xaxis": {
         "title": {
          "text": "Hours"
         }
        },
        "yaxis": {
         "title": {
          "text": "Number of bikes available"
         }
        }
       }
      },
      "text/html": [
       "<div>\n",
       "        \n",
       "        \n",
       "            <div id=\"4d31f177-ee7c-45ca-8b02-569c9e244dd8\" class=\"plotly-graph-div\" style=\"height:525px; width:100%;\"></div>\n",
       "            <script type=\"text/javascript\">\n",
       "                require([\"plotly\"], function(Plotly) {\n",
       "                    window.PLOTLYENV=window.PLOTLYENV || {};\n",
       "                    \n",
       "                if (document.getElementById(\"4d31f177-ee7c-45ca-8b02-569c9e244dd8\")) {\n",
       "                    Plotly.newPlot(\n",
       "                        '4d31f177-ee7c-45ca-8b02-569c9e244dd8',\n",
       "                        [{\"line\": {\"color\": \"rgb(51,96,140)\", \"width\": 6}, \"mode\": \"lines\", \"name\": \"Cluster 0\", \"type\": \"scatter\", \"x\": [\"00:00\", \"01:00\", \"02:00\", \"03:00\", \"04:00\", \"05:00\", \"06:00\", \"07:00\", \"08:00\", \"09:00\", \"10:00\", \"11:00\", \"12:00\", \"13:00\", \"14:00\", \"15:00\", \"16:00\", \"17:00\", \"18:00\", \"19:00\", \"20:00\", \"21:00\", \"22:00\", \"23:00\"], \"y\": [22.898550724637676, 22.89231884057972, 22.80101449275362, 22.54057971014493, 21.854347826086954, 18.77072463768116, 12.166521739130433, 7.243913043478262, 6.610289855072466, 6.9195652173913045, 7.57159420289855, 8.894927536231886, 11.389999999999999, 13.40217391304348, 14.610144927536236, 15.561449275362316, 17.30724637681159, 18.75695652173913, 19.939710144927535, 20.87608695652173, 21.391159420289846, 21.95826086956522, 22.631739130434788, 23.234927536231886]}, {\"line\": {\"color\": \"rgb(195,106,156)\", \"width\": 6}, \"mode\": \"lines\", \"name\": \"Cluster 1\", \"type\": \"scatter\", \"x\": [\"00:00\", \"01:00\", \"02:00\", \"03:00\", \"04:00\", \"05:00\", \"06:00\", \"07:00\", \"08:00\", \"09:00\", \"10:00\", \"11:00\", \"12:00\", \"13:00\", \"14:00\", \"15:00\", \"16:00\", \"17:00\", \"18:00\", \"19:00\", \"20:00\", \"21:00\", \"22:00\", \"23:00\"], \"y\": [3.0014529914529917, 3.4948717948717936, 4.058119658119656, 4.810940170940173, 5.201709401709404, 4.688547008547009, 3.845299145299145, 3.39008547008547, 3.59042735042735, 3.551452991452991, 3.37905982905983, 3.181538461538461, 2.4389743589743595, 1.902222222222222, 1.9652136752136757, 2.046581196581197, 1.9781196581196592, 2.1437606837606835, 2.4391452991452995, 2.596324786324785, 2.737606837606838, 2.559829059829059, 2.356923076923078, 2.502564102564102]}, {\"line\": {\"color\": \"rgb(246,186,87)\", \"width\": 6}, \"mode\": \"lines\", \"name\": \"Cluster 2\", \"type\": \"scatter\", \"x\": [\"00:00\", \"01:00\", \"02:00\", \"03:00\", \"04:00\", \"05:00\", \"06:00\", \"07:00\", \"08:00\", \"09:00\", \"10:00\", \"11:00\", \"12:00\", \"13:00\", \"14:00\", \"15:00\", \"16:00\", \"17:00\", \"18:00\", \"19:00\", \"20:00\", \"21:00\", \"22:00\", \"23:00\"], \"y\": [4.521449275362318, 4.3136231884057965, 4.062608695652174, 3.978985507246377, 4.355072463768116, 7.290434782608696, 15.197101449275364, 21.17057971014494, 22.744347826086955, 22.152898550724636, 20.752318840579715, 18.22188405797101, 15.432753623188407, 14.064492753623192, 12.979855072463765, 10.541304347826085, 7.182028985507247, 5.670869565217393, 5.004202898550724, 4.621304347826085, 4.857246376811593, 4.875797101449276, 4.631304347826085, 4.502173913043476]}, {\"line\": {\"color\": \"rgb(228,96,72)\", \"width\": 6}, \"mode\": \"lines\", \"name\": \"Cluster 3\", \"type\": \"scatter\", \"x\": [\"00:00\", \"01:00\", \"02:00\", \"03:00\", \"04:00\", \"05:00\", \"06:00\", \"07:00\", \"08:00\", \"09:00\", \"10:00\", \"11:00\", \"12:00\", \"13:00\", \"14:00\", \"15:00\", \"16:00\", \"17:00\", \"18:00\", \"19:00\", \"20:00\", \"21:00\", \"22:00\", \"23:00\"], \"y\": [15.260746268656723, 13.972686567164182, 12.61179104477612, 11.372388059701494, 10.521343283582091, 9.970895522388062, 11.412089552238807, 15.570447761194027, 18.408208955223884, 19.25895522388059, 19.212985074626864, 18.84925373134328, 18.27910447761194, 18.40671641791044, 18.649253731343286, 18.29686567164178, 17.332388059701493, 17.08298507462687, 17.41194029850746, 17.774776119402983, 18.274776119402983, 18.315223880597017, 17.775074626865667, 16.89597014925373]}, {\"line\": {\"color\": \"rgb(184,24,64)\", \"width\": 6}, \"mode\": \"lines\", \"name\": \"Cluster 4\", \"type\": \"scatter\", \"x\": [\"00:00\", \"01:00\", \"02:00\", \"03:00\", \"04:00\", \"05:00\", \"06:00\", \"07:00\", \"08:00\", \"09:00\", \"10:00\", \"11:00\", \"12:00\", \"13:00\", \"14:00\", \"15:00\", \"16:00\", \"17:00\", \"18:00\", \"19:00\", \"20:00\", \"21:00\", \"22:00\", \"23:00\"], \"y\": [13.034204545454545, 13.932045454545454, 14.523068181818184, 14.736590909090916, 14.33386363636363, 11.180454545454545, 6.26681818181818, 4.014659090909092, 3.8182954545454546, 3.949886363636364, 4.282613636363636, 4.781477272727273, 4.952840909090909, 5.079545454545457, 5.331704545454545, 5.616931818181819, 6.034431818181819, 6.450227272727273, 7.0715909090909115, 8.055795454545448, 9.09227272727273, 9.59147727272727, 10.422613636363637, 11.600909090909095]}, {\"line\": {\"color\": \"rgb(0,0,0)\", \"width\": 3}, \"mode\": \"lines\", \"name\": \"Morning rush hour start\", \"type\": \"scatter\", \"x\": [\"06:00\", \"06:00\"], \"y\": [0, 23]}, {\"line\": {\"color\": \"rgb(0,0,0)\", \"width\": 3}, \"mode\": \"lines\", \"name\": \"Morning rush hour finish\", \"type\": \"scatter\", \"x\": [\"09:00\", \"09:00\"], \"y\": [0, 23]}, {\"line\": {\"color\": \"rgb(0,0,0)\", \"width\": 3}, \"mode\": \"lines\", \"name\": \"Evening rush hour\", \"type\": \"scatter\", \"x\": [\"17:00\", \"17:00\"], \"y\": [0, 23]}],\n",
       "                        {\"template\": {\"data\": {\"bar\": [{\"error_x\": {\"color\": \"#2a3f5f\"}, \"error_y\": {\"color\": \"#2a3f5f\"}, \"marker\": {\"line\": {\"color\": \"#E5ECF6\", \"width\": 0.5}}, \"type\": \"bar\"}], \"barpolar\": [{\"marker\": {\"line\": {\"color\": \"#E5ECF6\", \"width\": 0.5}}, \"type\": \"barpolar\"}], \"carpet\": [{\"aaxis\": {\"endlinecolor\": \"#2a3f5f\", \"gridcolor\": \"white\", \"linecolor\": \"white\", \"minorgridcolor\": \"white\", \"startlinecolor\": \"#2a3f5f\"}, \"baxis\": {\"endlinecolor\": \"#2a3f5f\", \"gridcolor\": \"white\", \"linecolor\": \"white\", \"minorgridcolor\": \"white\", \"startlinecolor\": \"#2a3f5f\"}, \"type\": \"carpet\"}], \"choropleth\": [{\"colorbar\": {\"outlinewidth\": 0, \"ticks\": \"\"}, \"type\": \"choropleth\"}], \"contour\": [{\"colorbar\": {\"outlinewidth\": 0, \"ticks\": \"\"}, \"colorscale\": [[0.0, \"#0d0887\"], [0.1111111111111111, \"#46039f\"], [0.2222222222222222, \"#7201a8\"], [0.3333333333333333, \"#9c179e\"], [0.4444444444444444, \"#bd3786\"], [0.5555555555555556, \"#d8576b\"], [0.6666666666666666, \"#ed7953\"], [0.7777777777777778, \"#fb9f3a\"], [0.8888888888888888, \"#fdca26\"], [1.0, \"#f0f921\"]], \"type\": \"contour\"}], \"contourcarpet\": [{\"colorbar\": {\"outlinewidth\": 0, \"ticks\": \"\"}, \"type\": \"contourcarpet\"}], \"heatmap\": [{\"colorbar\": {\"outlinewidth\": 0, \"ticks\": \"\"}, \"colorscale\": [[0.0, \"#0d0887\"], [0.1111111111111111, \"#46039f\"], [0.2222222222222222, \"#7201a8\"], [0.3333333333333333, \"#9c179e\"], [0.4444444444444444, \"#bd3786\"], [0.5555555555555556, \"#d8576b\"], [0.6666666666666666, \"#ed7953\"], [0.7777777777777778, \"#fb9f3a\"], [0.8888888888888888, \"#fdca26\"], [1.0, \"#f0f921\"]], \"type\": \"heatmap\"}], \"heatmapgl\": [{\"colorbar\": {\"outlinewidth\": 0, \"ticks\": \"\"}, \"colorscale\": [[0.0, \"#0d0887\"], [0.1111111111111111, \"#46039f\"], [0.2222222222222222, \"#7201a8\"], [0.3333333333333333, \"#9c179e\"], [0.4444444444444444, \"#bd3786\"], [0.5555555555555556, \"#d8576b\"], [0.6666666666666666, \"#ed7953\"], [0.7777777777777778, \"#fb9f3a\"], [0.8888888888888888, \"#fdca26\"], [1.0, \"#f0f921\"]], \"type\": \"heatmapgl\"}], \"histogram\": [{\"marker\": {\"colorbar\": {\"outlinewidth\": 0, \"ticks\": \"\"}}, \"type\": \"histogram\"}], \"histogram2d\": [{\"colorbar\": {\"outlinewidth\": 0, \"ticks\": \"\"}, \"colorscale\": [[0.0, \"#0d0887\"], [0.1111111111111111, \"#46039f\"], [0.2222222222222222, \"#7201a8\"], [0.3333333333333333, \"#9c179e\"], [0.4444444444444444, \"#bd3786\"], [0.5555555555555556, \"#d8576b\"], [0.6666666666666666, \"#ed7953\"], [0.7777777777777778, \"#fb9f3a\"], [0.8888888888888888, \"#fdca26\"], [1.0, \"#f0f921\"]], \"type\": \"histogram2d\"}], \"histogram2dcontour\": [{\"colorbar\": {\"outlinewidth\": 0, \"ticks\": \"\"}, \"colorscale\": [[0.0, \"#0d0887\"], [0.1111111111111111, \"#46039f\"], [0.2222222222222222, \"#7201a8\"], [0.3333333333333333, \"#9c179e\"], [0.4444444444444444, \"#bd3786\"], [0.5555555555555556, \"#d8576b\"], [0.6666666666666666, \"#ed7953\"], [0.7777777777777778, \"#fb9f3a\"], [0.8888888888888888, \"#fdca26\"], [1.0, \"#f0f921\"]], \"type\": \"histogram2dcontour\"}], \"mesh3d\": [{\"colorbar\": {\"outlinewidth\": 0, \"ticks\": \"\"}, \"type\": \"mesh3d\"}], \"parcoords\": [{\"line\": {\"colorbar\": {\"outlinewidth\": 0, \"ticks\": \"\"}}, \"type\": \"parcoords\"}], \"pie\": [{\"automargin\": true, \"type\": \"pie\"}], \"scatter\": [{\"marker\": {\"colorbar\": {\"outlinewidth\": 0, \"ticks\": \"\"}}, \"type\": \"scatter\"}], \"scatter3d\": [{\"line\": {\"colorbar\": {\"outlinewidth\": 0, \"ticks\": \"\"}}, \"marker\": {\"colorbar\": {\"outlinewidth\": 0, \"ticks\": \"\"}}, \"type\": \"scatter3d\"}], \"scattercarpet\": [{\"marker\": {\"colorbar\": {\"outlinewidth\": 0, \"ticks\": \"\"}}, \"type\": \"scattercarpet\"}], \"scattergeo\": [{\"marker\": {\"colorbar\": {\"outlinewidth\": 0, \"ticks\": \"\"}}, \"type\": \"scattergeo\"}], \"scattergl\": [{\"marker\": {\"colorbar\": {\"outlinewidth\": 0, \"ticks\": \"\"}}, \"type\": \"scattergl\"}], \"scattermapbox\": [{\"marker\": {\"colorbar\": {\"outlinewidth\": 0, \"ticks\": \"\"}}, \"type\": \"scattermapbox\"}], \"scatterpolar\": [{\"marker\": {\"colorbar\": {\"outlinewidth\": 0, \"ticks\": \"\"}}, \"type\": \"scatterpolar\"}], \"scatterpolargl\": [{\"marker\": {\"colorbar\": {\"outlinewidth\": 0, \"ticks\": \"\"}}, \"type\": \"scatterpolargl\"}], \"scatterternary\": [{\"marker\": {\"colorbar\": {\"outlinewidth\": 0, \"ticks\": \"\"}}, \"type\": \"scatterternary\"}], \"surface\": [{\"colorbar\": {\"outlinewidth\": 0, \"ticks\": \"\"}, \"colorscale\": [[0.0, \"#0d0887\"], [0.1111111111111111, \"#46039f\"], [0.2222222222222222, \"#7201a8\"], [0.3333333333333333, \"#9c179e\"], [0.4444444444444444, \"#bd3786\"], [0.5555555555555556, \"#d8576b\"], [0.6666666666666666, \"#ed7953\"], [0.7777777777777778, \"#fb9f3a\"], [0.8888888888888888, \"#fdca26\"], [1.0, \"#f0f921\"]], \"type\": \"surface\"}], \"table\": [{\"cells\": {\"fill\": {\"color\": \"#EBF0F8\"}, \"line\": {\"color\": \"white\"}}, \"header\": {\"fill\": {\"color\": \"#C8D4E3\"}, \"line\": {\"color\": \"white\"}}, \"type\": \"table\"}]}, \"layout\": {\"annotationdefaults\": {\"arrowcolor\": \"#2a3f5f\", \"arrowhead\": 0, \"arrowwidth\": 1}, \"coloraxis\": {\"colorbar\": {\"outlinewidth\": 0, \"ticks\": \"\"}}, \"colorscale\": {\"diverging\": [[0, \"#8e0152\"], [0.1, \"#c51b7d\"], [0.2, \"#de77ae\"], [0.3, \"#f1b6da\"], [0.4, \"#fde0ef\"], [0.5, \"#f7f7f7\"], [0.6, \"#e6f5d0\"], [0.7, \"#b8e186\"], [0.8, \"#7fbc41\"], [0.9, \"#4d9221\"], [1, \"#276419\"]], \"sequential\": [[0.0, \"#0d0887\"], [0.1111111111111111, \"#46039f\"], [0.2222222222222222, \"#7201a8\"], [0.3333333333333333, \"#9c179e\"], [0.4444444444444444, \"#bd3786\"], [0.5555555555555556, \"#d8576b\"], [0.6666666666666666, \"#ed7953\"], [0.7777777777777778, \"#fb9f3a\"], [0.8888888888888888, \"#fdca26\"], [1.0, \"#f0f921\"]], \"sequentialminus\": [[0.0, \"#0d0887\"], [0.1111111111111111, \"#46039f\"], [0.2222222222222222, \"#7201a8\"], [0.3333333333333333, \"#9c179e\"], [0.4444444444444444, \"#bd3786\"], [0.5555555555555556, \"#d8576b\"], [0.6666666666666666, \"#ed7953\"], [0.7777777777777778, \"#fb9f3a\"], [0.8888888888888888, \"#fdca26\"], [1.0, \"#f0f921\"]]}, \"colorway\": [\"#636efa\", \"#EF553B\", \"#00cc96\", \"#ab63fa\", \"#FFA15A\", \"#19d3f3\", \"#FF6692\", \"#B6E880\", \"#FF97FF\", \"#FECB52\"], \"font\": {\"color\": \"#2a3f5f\"}, \"geo\": {\"bgcolor\": \"white\", \"lakecolor\": \"white\", \"landcolor\": \"#E5ECF6\", \"showlakes\": true, \"showland\": true, \"subunitcolor\": \"white\"}, \"hoverlabel\": {\"align\": \"left\"}, \"hovermode\": \"closest\", \"mapbox\": {\"style\": \"light\"}, \"paper_bgcolor\": \"white\", \"plot_bgcolor\": \"#E5ECF6\", \"polar\": {\"angularaxis\": {\"gridcolor\": \"white\", \"linecolor\": \"white\", \"ticks\": \"\"}, \"bgcolor\": \"#E5ECF6\", \"radialaxis\": {\"gridcolor\": \"white\", \"linecolor\": \"white\", \"ticks\": \"\"}}, \"scene\": {\"xaxis\": {\"backgroundcolor\": \"#E5ECF6\", \"gridcolor\": \"white\", \"gridwidth\": 2, \"linecolor\": \"white\", \"showbackground\": true, \"ticks\": \"\", \"zerolinecolor\": \"white\"}, \"yaxis\": {\"backgroundcolor\": \"#E5ECF6\", \"gridcolor\": \"white\", \"gridwidth\": 2, \"linecolor\": \"white\", \"showbackground\": true, \"ticks\": \"\", \"zerolinecolor\": \"white\"}, \"zaxis\": {\"backgroundcolor\": \"#E5ECF6\", \"gridcolor\": \"white\", \"gridwidth\": 2, \"linecolor\": \"white\", \"showbackground\": true, \"ticks\": \"\", \"zerolinecolor\": \"white\"}}, \"shapedefaults\": {\"line\": {\"color\": \"#2a3f5f\"}}, \"ternary\": {\"aaxis\": {\"gridcolor\": \"white\", \"linecolor\": \"white\", \"ticks\": \"\"}, \"baxis\": {\"gridcolor\": \"white\", \"linecolor\": \"white\", \"ticks\": \"\"}, \"bgcolor\": \"#E5ECF6\", \"caxis\": {\"gridcolor\": \"white\", \"linecolor\": \"white\", \"ticks\": \"\"}}, \"title\": {\"x\": 0.05}, \"xaxis\": {\"automargin\": true, \"gridcolor\": \"white\", \"linecolor\": \"white\", \"ticks\": \"\", \"title\": {\"standoff\": 15}, \"zerolinecolor\": \"white\", \"zerolinewidth\": 2}, \"yaxis\": {\"automargin\": true, \"gridcolor\": \"white\", \"linecolor\": \"white\", \"ticks\": \"\", \"title\": {\"standoff\": 15}, \"zerolinecolor\": \"white\", \"zerolinewidth\": 2}}}, \"title\": {\"text\": \"Clusters Workdays hourly behaviour\"}, \"xaxis\": {\"title\": {\"text\": \"Hours\"}}, \"yaxis\": {\"title\": {\"text\": \"Number of bikes available\"}}},\n",
       "                        {\"responsive\": true}\n",
       "                    ).then(function(){\n",
       "                            \n",
       "var gd = document.getElementById('4d31f177-ee7c-45ca-8b02-569c9e244dd8');\n",
       "var x = new MutationObserver(function (mutations, observer) {{\n",
       "        var display = window.getComputedStyle(gd).display;\n",
       "        if (!display || display === 'none') {{\n",
       "            console.log([gd, 'removed!']);\n",
       "            Plotly.purge(gd);\n",
       "            observer.disconnect();\n",
       "        }}\n",
       "}});\n",
       "\n",
       "// Listen for the removal of the full notebook cells\n",
       "var notebookContainer = gd.closest('#notebook-container');\n",
       "if (notebookContainer) {{\n",
       "    x.observe(notebookContainer, {childList: true});\n",
       "}}\n",
       "\n",
       "// Listen for the clearing of the current output cell\n",
       "var outputEl = gd.closest('.output');\n",
       "if (outputEl) {{\n",
       "    x.observe(outputEl, {childList: true});\n",
       "}}\n",
       "\n",
       "                        })\n",
       "                };\n",
       "                });\n",
       "            </script>\n",
       "        </div>"
      ]
     },
     "metadata": {},
     "output_type": "display_data"
    }
   ],
   "source": [
    "fig = go.Figure(\n",
    "        data=[\n",
    "             go.Scatter(x=clu_means.index, \n",
    "                       y=clu_means[0],\n",
    "                       mode='lines',\n",
    "                       name='Cluster 0',\n",
    "                       line = dict(\n",
    "                           width = 6,\n",
    "                           color = 'rgb(51,96,140)')),\n",
    "             go.Scatter(x=clu_means.index, \n",
    "                       y=clu_means[1],\n",
    "                       mode='lines',\n",
    "                       name='Cluster 1',\n",
    "                       line = dict(\n",
    "                           width = 6,\n",
    "                           color = 'rgb(195,106,156)')),\n",
    "            go.Scatter(x=clu_means.index, \n",
    "                       y=clu_means[2],\n",
    "                       mode='lines',\n",
    "                       name='Cluster 2',\n",
    "                       line = dict(\n",
    "                           width = 6,\n",
    "                           color = 'rgb(246,186,87)')),\n",
    "            go.Scatter(x=clu_means.index, \n",
    "                       y=clu_means[3],\n",
    "                       mode='lines',\n",
    "                       name='Cluster 3',\n",
    "                       line = dict(\n",
    "                           width = 6,\n",
    "                           color = 'rgb(228,96,72)')),\n",
    "            go.Scatter(x=clu_means.index, \n",
    "                       y=clu_means[4],\n",
    "                       mode='lines',\n",
    "                       name='Cluster 4',\n",
    "                       line = dict(\n",
    "                           width = 6,\n",
    "                           color = 'rgb(184,24,64)')),\n",
    "            \n",
    "        ],\n",
    "        layout=go.Layout(\n",
    "            title=dict(text='Clusters Workdays hourly behaviour'),\n",
    "            xaxis=dict(title='Hours'),\n",
    "            yaxis=dict(title='Number of bikes available')))\n",
    "\n",
    "\n",
    "fig.add_trace(go.Scatter(x=['06:00','06:00'], y=[0,23], mode=\"lines\", name=\"Morning rush hour start\",line = dict(\n",
    "                           width = 3,\n",
    "                           color = 'rgb(0,0,0)')))\n",
    "fig.add_trace(go.Scatter(x=['09:00','09:00'], y=[0,23], mode=\"lines\", name=\"Morning rush hour finish\",line = dict(\n",
    "                           width = 3,\n",
    "                           color = 'rgb(0,0,0)')))\n",
    "fig.add_trace(go.Scatter(x=['17:00','17:00'], y=[0,23], mode=\"lines\", name=\"Evening rush hour\",line = dict(\n",
    "                           width = 3,\n",
    "                           color = 'rgb(0,0,0)')))\n",
    "fig.show()"
   ]
  },
  {
   "cell_type": "markdown",
   "metadata": {},
   "source": [
    "Extractions from the graph:\n",
    "* Cluster 0: Stations behave as residential place: full at night, get empty at morning rush hour and then slowly increases the number of bikes towards the day.\n",
    "* Cluster 1: Tend to be empty all day.\n",
    "* Cluster 2: Stations from this cluster behave as work/educational locations. At morning rush hour the tendency is too get filled by bikes and then it slowly gets empty towards the end of the day.\n",
    "* Cluster 3: Stations of cluster 3 tend to be half-full throughout most part of the day.\n",
    "* Cluster 4: Stations behave similarly as the ones with Cluster 0, but having less number of bikes and a less aggressive tendency (hypothesis: maybe they are located at higher parts of the city than cluster 0?)\n"
   ]
  }
 ],
 "metadata": {
  "kernelspec": {
   "display_name": "Python 3",
   "language": "python",
   "name": "python3"
  },
  "language_info": {
   "codemirror_mode": {
    "name": "ipython",
    "version": 3
   },
   "file_extension": ".py",
   "mimetype": "text/x-python",
   "name": "python",
   "nbconvert_exporter": "python",
   "pygments_lexer": "ipython3",
   "version": "3.7.3"
  }
 },
 "nbformat": 4,
 "nbformat_minor": 2
}
